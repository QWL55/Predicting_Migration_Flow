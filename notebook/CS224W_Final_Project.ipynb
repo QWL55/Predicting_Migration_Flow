{
  "nbformat": 4,
  "nbformat_minor": 0,
  "metadata": {
    "kernelspec": {
      "display_name": "Python 3",
      "name": "python3"
    },
    "language_info": {
      "codemirror_mode": {
        "name": "ipython",
        "version": 3
      },
      "file_extension": ".py",
      "mimetype": "text/x-python",
      "name": "python",
      "nbconvert_exporter": "python",
      "pygments_lexer": "ipython3",
      "version": "3.7.3"
    },
    "colab": {
      "provenance": [],
      "gpuType": "T4",
      "include_colab_link": true
    },
    "accelerator": "GPU"
  },
  "cells": [
    {
      "cell_type": "markdown",
      "metadata": {
        "id": "view-in-github",
        "colab_type": "text"
      },
      "source": [
        "<a href=\"https://colab.research.google.com/github/QWL55/Predicting_Migration_Flow/blob/main/notebook/CS224W_Final_Project.ipynb\" target=\"_parent\"><img src=\"https://colab.research.google.com/assets/colab-badge.svg\" alt=\"Open In Colab\"/></a>"
      ]
    },
    {
      "cell_type": "markdown",
      "metadata": {
        "id": "XuXWJLEm2UWS"
      },
      "source": [
        "# **CS224W - Final Project**"
      ]
    },
    {
      "cell_type": "markdown",
      "metadata": {
        "id": "8gzsP50bF6Gb"
      },
      "source": [
        "\n"
      ]
    },
    {
      "cell_type": "markdown",
      "metadata": {
        "id": "OCK7krJdp4o8"
      },
      "source": [
        "# Setup\n",
        "First let us check which version of PyTorch you are running"
      ]
    },
    {
      "cell_type": "code",
      "metadata": {
        "id": "2vkP8pA1qBE5",
        "colab": {
          "base_uri": "https://localhost:8080/"
        },
        "outputId": "9da3ed69-22cd-4d66-8090-ffdf089c4df9"
      },
      "source": [
        "# Install torch geometric\n",
        "import os\n",
        "import torch\n",
        "torch_version = str(torch.__version__)\n",
        "scatter_src = f\"https://pytorch-geometric.com/whl/torch-{torch_version}.html\"\n",
        "sparse_src = f\"https://pytorch-geometric.com/whl/torch-{torch_version}.html\"\n",
        "!pip install torch-scatter -f $scatter_src\n",
        "!pip install torch-sparse -f $sparse_src\n",
        "!pip install torch-geometric\n",
        "!pip install -q git+https://github.com/snap-stanford/deepsnap.git\n",
        "!pip install -U -q PyDrive"
      ],
      "execution_count": 1,
      "outputs": [
        {
          "output_type": "stream",
          "name": "stdout",
          "text": [
            "Looking in links: https://pytorch-geometric.com/whl/torch-2.5.1+cu121.html\n",
            "Collecting torch-scatter\n",
            "  Downloading https://data.pyg.org/whl/torch-2.5.0%2Bcu121/torch_scatter-2.1.2%2Bpt25cu121-cp310-cp310-linux_x86_64.whl (10.9 MB)\n",
            "\u001b[2K     \u001b[90m━━━━━━━━━━━━━━━━━━━━━━━━━━━━━━━━━━━━━━━━\u001b[0m \u001b[32m10.9/10.9 MB\u001b[0m \u001b[31m55.3 MB/s\u001b[0m eta \u001b[36m0:00:00\u001b[0m\n",
            "\u001b[?25hInstalling collected packages: torch-scatter\n",
            "Successfully installed torch-scatter-2.1.2+pt25cu121\n",
            "Looking in links: https://pytorch-geometric.com/whl/torch-2.5.1+cu121.html\n",
            "Collecting torch-sparse\n",
            "  Downloading https://data.pyg.org/whl/torch-2.5.0%2Bcu121/torch_sparse-0.6.18%2Bpt25cu121-cp310-cp310-linux_x86_64.whl (5.1 MB)\n",
            "\u001b[2K     \u001b[90m━━━━━━━━━━━━━━━━━━━━━━━━━━━━━━━━━━━━━━━━\u001b[0m \u001b[32m5.1/5.1 MB\u001b[0m \u001b[31m42.2 MB/s\u001b[0m eta \u001b[36m0:00:00\u001b[0m\n",
            "\u001b[?25hRequirement already satisfied: scipy in /usr/local/lib/python3.10/dist-packages (from torch-sparse) (1.13.1)\n",
            "Requirement already satisfied: numpy<2.3,>=1.22.4 in /usr/local/lib/python3.10/dist-packages (from scipy->torch-sparse) (1.26.4)\n",
            "Installing collected packages: torch-sparse\n",
            "Successfully installed torch-sparse-0.6.18+pt25cu121\n",
            "Collecting torch-geometric\n",
            "  Downloading torch_geometric-2.6.1-py3-none-any.whl.metadata (63 kB)\n",
            "\u001b[2K     \u001b[90m━━━━━━━━━━━━━━━━━━━━━━━━━━━━━━━━━━━━━━━━\u001b[0m \u001b[32m63.1/63.1 kB\u001b[0m \u001b[31m4.3 MB/s\u001b[0m eta \u001b[36m0:00:00\u001b[0m\n",
            "\u001b[?25hRequirement already satisfied: aiohttp in /usr/local/lib/python3.10/dist-packages (from torch-geometric) (3.11.9)\n",
            "Requirement already satisfied: fsspec in /usr/local/lib/python3.10/dist-packages (from torch-geometric) (2024.10.0)\n",
            "Requirement already satisfied: jinja2 in /usr/local/lib/python3.10/dist-packages (from torch-geometric) (3.1.4)\n",
            "Requirement already satisfied: numpy in /usr/local/lib/python3.10/dist-packages (from torch-geometric) (1.26.4)\n",
            "Requirement already satisfied: psutil>=5.8.0 in /usr/local/lib/python3.10/dist-packages (from torch-geometric) (5.9.5)\n",
            "Requirement already satisfied: pyparsing in /usr/local/lib/python3.10/dist-packages (from torch-geometric) (3.2.0)\n",
            "Requirement already satisfied: requests in /usr/local/lib/python3.10/dist-packages (from torch-geometric) (2.32.3)\n",
            "Requirement already satisfied: tqdm in /usr/local/lib/python3.10/dist-packages (from torch-geometric) (4.66.6)\n",
            "Requirement already satisfied: aiohappyeyeballs>=2.3.0 in /usr/local/lib/python3.10/dist-packages (from aiohttp->torch-geometric) (2.4.4)\n",
            "Requirement already satisfied: aiosignal>=1.1.2 in /usr/local/lib/python3.10/dist-packages (from aiohttp->torch-geometric) (1.3.1)\n",
            "Requirement already satisfied: async-timeout<6.0,>=4.0 in /usr/local/lib/python3.10/dist-packages (from aiohttp->torch-geometric) (4.0.3)\n",
            "Requirement already satisfied: attrs>=17.3.0 in /usr/local/lib/python3.10/dist-packages (from aiohttp->torch-geometric) (24.2.0)\n",
            "Requirement already satisfied: frozenlist>=1.1.1 in /usr/local/lib/python3.10/dist-packages (from aiohttp->torch-geometric) (1.5.0)\n",
            "Requirement already satisfied: multidict<7.0,>=4.5 in /usr/local/lib/python3.10/dist-packages (from aiohttp->torch-geometric) (6.1.0)\n",
            "Requirement already satisfied: propcache>=0.2.0 in /usr/local/lib/python3.10/dist-packages (from aiohttp->torch-geometric) (0.2.1)\n",
            "Requirement already satisfied: yarl<2.0,>=1.17.0 in /usr/local/lib/python3.10/dist-packages (from aiohttp->torch-geometric) (1.18.3)\n",
            "Requirement already satisfied: MarkupSafe>=2.0 in /usr/local/lib/python3.10/dist-packages (from jinja2->torch-geometric) (3.0.2)\n",
            "Requirement already satisfied: charset-normalizer<4,>=2 in /usr/local/lib/python3.10/dist-packages (from requests->torch-geometric) (3.4.0)\n",
            "Requirement already satisfied: idna<4,>=2.5 in /usr/local/lib/python3.10/dist-packages (from requests->torch-geometric) (3.10)\n",
            "Requirement already satisfied: urllib3<3,>=1.21.1 in /usr/local/lib/python3.10/dist-packages (from requests->torch-geometric) (2.2.3)\n",
            "Requirement already satisfied: certifi>=2017.4.17 in /usr/local/lib/python3.10/dist-packages (from requests->torch-geometric) (2024.8.30)\n",
            "Requirement already satisfied: typing-extensions>=4.1.0 in /usr/local/lib/python3.10/dist-packages (from multidict<7.0,>=4.5->aiohttp->torch-geometric) (4.12.2)\n",
            "Downloading torch_geometric-2.6.1-py3-none-any.whl (1.1 MB)\n",
            "\u001b[2K   \u001b[90m━━━━━━━━━━━━━━━━━━━━━━━━━━━━━━━━━━━━━━━━\u001b[0m \u001b[32m1.1/1.1 MB\u001b[0m \u001b[31m41.3 MB/s\u001b[0m eta \u001b[36m0:00:00\u001b[0m\n",
            "\u001b[?25hInstalling collected packages: torch-geometric\n",
            "Successfully installed torch-geometric-2.6.1\n",
            "  Preparing metadata (setup.py) ... \u001b[?25l\u001b[?25hdone\n",
            "  Building wheel for deepsnap (setup.py) ... \u001b[?25l\u001b[?25hdone\n"
          ]
        }
      ]
    },
    {
      "cell_type": "markdown",
      "metadata": {
        "id": "9DP_yEQZ0NVW"
      },
      "source": [
        "# 1) GNN: Link Regression Task\n",
        "\n",
        "In this section we will build our baseline graph neural network using PyTorch Geometric. Then we will apply it to the task of predicting the volume of migration flow (link regression).\n",
        "\n",
        "Specifically, we will use GCN as the foundation for the graph neural network ([Kipf et al. (2017)](https://arxiv.org/pdf/1609.02907.pdf)). To do so, we will work with PyG's built-in `GCNConv` layer."
      ]
    },
    {
      "cell_type": "markdown",
      "metadata": {
        "id": "O4CcOUEoInjD"
      },
      "source": [
        "## Setup"
      ]
    },
    {
      "cell_type": "code",
      "source": [
        "import pandas as pd\n",
        "import numpy as np\n",
        "import copy\n",
        "import torch.nn.functional as F\n",
        "from sklearn.metrics import roc_auc_score\n",
        "# The PyG built-in GCNConv\n",
        "import torch_geometric\n",
        "from torch_geometric.nn import GCNConv\n",
        "from torch_geometric.utils import negative_sampling\n",
        "import torch_geometric.transforms as T"
      ],
      "metadata": {
        "id": "FT_w3_lVcxdS"
      },
      "execution_count": 2,
      "outputs": []
    },
    {
      "cell_type": "code",
      "source": [
        "from google.colab import drive\n",
        "drive.mount('/content/drive')"
      ],
      "metadata": {
        "colab": {
          "base_uri": "https://localhost:8080/"
        },
        "id": "L68uxydJVqUx",
        "outputId": "6c8358d8-b228-40ee-b5ef-da25cd9e8c60"
      },
      "execution_count": 3,
      "outputs": [
        {
          "output_type": "stream",
          "name": "stdout",
          "text": [
            "Mounted at /content/drive\n"
          ]
        }
      ]
    },
    {
      "cell_type": "code",
      "source": [
        "# change the path to your project folder\n",
        "os.chdir('/content/drive/MyDrive/Stanford SOC/CS224W/final_projects')"
      ],
      "metadata": {
        "id": "l9GJF29jV75D"
      },
      "execution_count": 4,
      "outputs": []
    },
    {
      "cell_type": "code",
      "source": [
        "os.listdir()"
      ],
      "metadata": {
        "colab": {
          "base_uri": "https://localhost:8080/"
        },
        "id": "GoMTUJkjdXDz",
        "outputId": "53ba63dc-1abf-45bd-874d-067070ed3368"
      },
      "execution_count": 5,
      "outputs": [
        {
          "output_type": "execute_result",
          "data": {
            "text/plain": [
              "['CS224W_Colab_2.ipynb',\n",
              " 'dataset',\n",
              " 'county_flow.csv',\n",
              " 'county_node_info.csv',\n",
              " 'flow_GraphSage.csv',\n",
              " 'flow_GCN.csv',\n",
              " '.ipynb_checkpoints',\n",
              " 'flow_GraphSage_full.csv',\n",
              " 'flow_GCN_full.csv',\n",
              " 'CS224W_Final_Project.ipynb']"
            ]
          },
          "metadata": {},
          "execution_count": 5
        }
      ]
    },
    {
      "cell_type": "markdown",
      "metadata": {
        "id": "0IK9z0wQIwzQ"
      },
      "source": [
        "## Load and Preprocess the Dataset"
      ]
    },
    {
      "cell_type": "code",
      "source": [
        "from torch_geometric.data import Data\n",
        "\n",
        "# Load the datasets\n",
        "county_flow_df = pd.read_csv('county_flow.csv', dtype={\"fips_orig\": str, \"fips_dest\": str})\n",
        "county_node_df = pd.read_csv('county_node_info.csv', dtype={\"GEOID\": str})\n",
        "\n",
        "# Step 1: Create a mapping from GEOID to index and\n",
        "# map fips_orig and fips_dest in county_flow_df to indices\n",
        "geo_to_index = {geo_id: idx for idx, geo_id in enumerate(county_node_df['GEOID'])}\n",
        "\n",
        "county_flow_df['src'] = county_flow_df['fips_orig'].map(geo_to_index)\n",
        "county_flow_df['dst'] = county_flow_df['fips_dest'].map(geo_to_index)\n",
        "\n",
        "# Drop any rows with missing mappings (i.e., if a fips code doesn't exist in county_node_df)\n",
        "county_flow_df = county_flow_df.dropna(subset=['src', 'dst']).astype({'src': int, 'dst': int})\n",
        "\n",
        "# Step 2: Extract the edge list and label\n",
        "edge_index_df = county_flow_df[['src', 'dst']]\n",
        "edge_index = torch.tensor(edge_index_df.values.T, dtype=torch.long)\n",
        "\n",
        "edge_labels = county_flow_df['flow'].values\n",
        "edge_labels = torch.tensor(edge_labels, dtype=torch.long)\n",
        "\n",
        "#Create a mapping dictionary from edge_index to edge_labels\n",
        "edge_maps = {\n",
        "    tuple(edge): label for edge, label in zip(edge_index.T.tolist(), edge_labels.tolist())\n",
        "}\n",
        "\n",
        "def load_process_data(feat_type):\n",
        "    # Step 3: Create two versions of county_node_features\n",
        "    if feat_type == 'full':\n",
        "        # includes all columns except GEOID\n",
        "        columns_to_drop = ['GEOID']\n",
        "    elif feat_type == 'simple':\n",
        "        # excludes columns with \"feature\" in their names\n",
        "        columns_to_drop = ['GEOID'] + [col for col in county_node_df.columns if 'feature' in col.lower()]\n",
        "    elif feat_type == 'pdfm':\n",
        "        # include only pdfm features\n",
        "        columns_to_drop = ['GEOID'] + [col for col in county_node_df.columns if 'feature' not in col.lower()]\n",
        "\n",
        "    # select relevant features\n",
        "    county_node_features = county_node_df.drop(columns=columns_to_drop, errors='ignore').values\n",
        "    county_node_features = torch.tensor(county_node_features, dtype=torch.float)\n",
        "\n",
        "    # Create PyG Data object\n",
        "    data = Data(x=county_node_features, edge_index=edge_index, y=edge_labels,\n",
        "                edge_label=edge_labels)\n",
        "    data.num_node_features = county_node_features.shape[1]\n",
        "    data.num_classes = 1\n",
        "\n",
        "    return data"
      ],
      "metadata": {
        "id": "NojfEz27VVQa"
      },
      "execution_count": 6,
      "outputs": []
    },
    {
      "cell_type": "code",
      "source": [
        "data_full = load_process_data('full')\n",
        "data_simple = load_process_data('simple')\n",
        "data_pdfm = load_process_data('pdfm')\n",
        "\n",
        "print(\"Data with full features:\")\n",
        "print(data_full)\n",
        "print(\"\\nData with simple features:\")\n",
        "print(data_simple)\n",
        "print(\"\\nData with pdfm features:\")\n",
        "print(data_pdfm)"
      ],
      "metadata": {
        "colab": {
          "base_uri": "https://localhost:8080/"
        },
        "id": "JC-KuR9_aDXT",
        "outputId": "72488fef-0a9f-475b-aa7b-94e4998ad661"
      },
      "execution_count": 7,
      "outputs": [
        {
          "output_type": "stream",
          "name": "stdout",
          "text": [
            "Data with full features:\n",
            "Data(x=[3116, 339], edge_index=[2, 107568], y=[107568], edge_label=[107568], num_node_features=339, num_classes=1)\n",
            "\n",
            "Data with simple features:\n",
            "Data(x=[3116, 9], edge_index=[2, 107568], y=[107568], edge_label=[107568], num_node_features=9, num_classes=1)\n",
            "\n",
            "Data with pdfm features:\n",
            "Data(x=[3116, 330], edge_index=[2, 107568], y=[107568], edge_label=[107568], num_node_features=330, num_classes=1)\n"
          ]
        }
      ]
    },
    {
      "cell_type": "code",
      "source": [
        "data_full"
      ],
      "metadata": {
        "colab": {
          "base_uri": "https://localhost:8080/"
        },
        "id": "ohagw6pmacSY",
        "outputId": "43476053-615d-4d6b-a024-999f2d3a51b4"
      },
      "execution_count": 275,
      "outputs": [
        {
          "output_type": "execute_result",
          "data": {
            "text/plain": [
              "Data(x=[3116, 339], edge_index=[2, 107568], y=[107568], edge_label=[107568], num_node_features=339, num_classes=1)"
            ]
          },
          "metadata": {},
          "execution_count": 275
        }
      ]
    },
    {
      "cell_type": "code",
      "source": [
        "# Data splitting\n",
        "transform = T.Compose([T.ToSparseTensor(),\n",
        "                       T.RandomLinkSplit(is_undirected=False,\n",
        "                                         neg_sampling_ratio=0.5,\n",
        "                                         split_labels=True)])\n",
        "\n",
        "train_data, val_data, test_data = transform(data_simple)\n",
        "#train_data, val_data, test_data = transform(data_simple)\n",
        "print(train_data)"
      ],
      "metadata": {
        "colab": {
          "base_uri": "https://localhost:8080/"
        },
        "id": "kRUnj1OilrWv",
        "outputId": "c34c02a5-642e-4a9d-e1c7-be8009b91253"
      },
      "execution_count": 9,
      "outputs": [
        {
          "output_type": "stream",
          "name": "stdout",
          "text": [
            "Data(x=[3116, 9], y=[75299], num_node_features=9, num_classes=1, adj_t=[3116, 3116, nnz=107568], edge_index=[2, 75299], pos_edge_label=[75299], pos_edge_label_index=[2, 75299], neg_edge_label=[37649], neg_edge_label_index=[2, 37649])\n"
          ]
        }
      ]
    },
    {
      "cell_type": "code",
      "source": [
        "val_data = edge_mapping(val_data)"
      ],
      "metadata": {
        "id": "mWePd8WbXQ7B"
      },
      "execution_count": 239,
      "outputs": []
    },
    {
      "cell_type": "code",
      "source": [
        "print(val_data.pos_edge_label.shape)"
      ],
      "metadata": {
        "colab": {
          "base_uri": "https://localhost:8080/"
        },
        "id": "dbJuunX8HPa2",
        "outputId": "d3bbdbc9-afee-4933-d8ba-c043e01d0104"
      },
      "execution_count": 240,
      "outputs": [
        {
          "output_type": "stream",
          "name": "stdout",
          "text": [
            "torch.Size([10756])\n"
          ]
        }
      ]
    },
    {
      "cell_type": "code",
      "source": [
        "[k for k, v in geo_to_index.items() if v == 2792]"
      ],
      "metadata": {
        "colab": {
          "base_uri": "https://localhost:8080/"
        },
        "id": "r3eI528JdNlL",
        "outputId": "1a968f1e-cb05-40a2-bf61-24695e7744d7"
      },
      "execution_count": 305,
      "outputs": [
        {
          "output_type": "execute_result",
          "data": {
            "text/plain": [
              "['050025']"
            ]
          },
          "metadata": {},
          "execution_count": 305
        }
      ]
    },
    {
      "cell_type": "code",
      "source": [
        "val_data.pos_edge_label_index[0]"
      ],
      "metadata": {
        "colab": {
          "base_uri": "https://localhost:8080/"
        },
        "id": "Pt5v570NdVnx",
        "outputId": "de8c6748-dd7a-4fda-da0c-86d5f19bb3df"
      },
      "execution_count": 304,
      "outputs": [
        {
          "output_type": "execute_result",
          "data": {
            "text/plain": [
              "tensor([2792, 2662, 2436,  ..., 3000, 2199,  758])"
            ]
          },
          "metadata": {},
          "execution_count": 304
        }
      ]
    },
    {
      "cell_type": "code",
      "source": [
        "filtered_df = county_node_df[(county_node_df['GEOID'] == \"050025\")]\n",
        "print(filtered_df)"
      ],
      "metadata": {
        "colab": {
          "base_uri": "https://localhost:8080/"
        },
        "id": "QM4V5p-rPzre",
        "outputId": "8af4dcca-211a-4a61-c6ff-991dc057621f"
      },
      "execution_count": 308,
      "outputs": [
        {
          "output_type": "stream",
          "name": "stdout",
          "text": [
            "       GEOID  tot_pop  median_inc     unemp      pov    age_65  diveristy_idx  \\\n",
            "2792  050025    43609       50917  0.060457  0.13124  0.191726       0.121224   \n",
            "\n",
            "      hou_burd  vote_share  crime_rate  ...  feature320    feature321  \\\n",
            "2792  0.001952    0.633532    0.028595  ...   -0.000013 -1.200000e-07   \n",
            "\n",
            "      feature322  feature323    feature324  feature325  feature326  \\\n",
            "2792   -0.000314   -0.000869 -3.000000e-08   -0.000722        -0.0   \n",
            "\n",
            "        feature327  feature328    feature329  \n",
            "2792 -1.000000e-08        -0.0 -2.000000e-08  \n",
            "\n",
            "[1 rows x 340 columns]\n"
          ]
        }
      ]
    },
    {
      "cell_type": "code",
      "source": [
        "t1 = val_data.x[val_data.pos_edge_label_index[0]]\n",
        "t2 = val_data.x[val_data.pos_edge_label_index[1]]\n",
        "\n",
        "cat = torch.cat([t1, t2], dim=-1).shape"
      ],
      "metadata": {
        "id": "9g2PYbuuHc3_"
      },
      "execution_count": 320,
      "outputs": []
    },
    {
      "cell_type": "code",
      "source": [
        "torch.cat([t1, t2], dim=1) == torch.cat([t1, t2], dim=-1)"
      ],
      "metadata": {
        "colab": {
          "base_uri": "https://localhost:8080/"
        },
        "id": "rywMsnvAdrEs",
        "outputId": "364bfbee-5372-4501-a164-0bd5fda6ad7b"
      },
      "execution_count": 322,
      "outputs": [
        {
          "output_type": "execute_result",
          "data": {
            "text/plain": [
              "tensor([[True, True, True,  ..., True, True, True],\n",
              "        [True, True, True,  ..., True, True, True],\n",
              "        [True, True, True,  ..., True, True, True],\n",
              "        ...,\n",
              "        [True, True, True,  ..., True, True, True],\n",
              "        [True, True, True,  ..., True, True, True],\n",
              "        [True, True, True,  ..., True, True, True]])"
            ]
          },
          "metadata": {},
          "execution_count": 322
        }
      ]
    },
    {
      "cell_type": "code",
      "source": [
        "#val_data.pos_edge_label_index.T.tolist()\n",
        "original_edges = val_data.pos_edge_label_index.T.tolist()\n",
        "original_labels = val_data.pos_edge_label.tolist()\n",
        "\n",
        "# Ensure alignment by creating a dictionary\n",
        "edge_to_label = {tuple(edge): label for edge, label in zip(original_edges, original_labels)}"
      ],
      "metadata": {
        "id": "i-IMMN5PYHLM"
      },
      "execution_count": 252,
      "outputs": []
    },
    {
      "cell_type": "code",
      "source": [
        "#edge_to_label"
      ],
      "metadata": {
        "id": "gG5O0yW0Y3aX"
      },
      "execution_count": 254,
      "outputs": []
    },
    {
      "cell_type": "code",
      "source": [
        "def edge_mapping(data):\n",
        "    # Create a mapping of edge to label\n",
        "    #original_edges = data.edge_label_index.T.tolist()\n",
        "    #original_labels = data.pos_edge_label.tolist()\n",
        "\n",
        "    # Ensure alignment by creating a dictionary\n",
        "    #edge_to_label = {tuple(edge): label for edge, label in zip(original_edges, original_labels)}\n",
        "\n",
        "    # Reassign labels in the order of pos_edge_label_index\n",
        "    aligned_labels = []\n",
        "    for edge in data.pos_edge_label_index.T.tolist():\n",
        "        aligned_labels.append(edge_maps[tuple(edge)])\n",
        "\n",
        "    # Convert aligned labels back to a tensor\n",
        "    data.pos_edge_label = torch.tensor(aligned_labels, dtype=torch.float)\n",
        "\n",
        "    return data\n",
        "\n",
        "train_data = edge_mapping(train_data)\n",
        "\n",
        "# Check if pos_edge_label corresponds to pos_edge_label_index\n",
        "for i, (src, dst) in enumerate(train_data.pos_edge_label_index.T):\n",
        "    label = train_data.pos_edge_label[i]\n",
        "    print(f\"Edge ({src.item()}, {dst.item()}) -> Label: {label.item()}\")\n",
        "    if i == 2:\n",
        "        break"
      ],
      "metadata": {
        "colab": {
          "base_uri": "https://localhost:8080/"
        },
        "id": "s623eGJFQUvF",
        "outputId": "56644744-188f-4286-eaf2-53d3a8c73ca1"
      },
      "execution_count": 10,
      "outputs": [
        {
          "output_type": "stream",
          "name": "stdout",
          "text": [
            "Edge (306, 2513) -> Label: 48.0\n",
            "Edge (316, 1188) -> Label: 548.0\n",
            "Edge (504, 473) -> Label: 104.0\n"
          ]
        }
      ]
    },
    {
      "cell_type": "code",
      "source": [
        "train_data.pos_edge_label_index"
      ],
      "metadata": {
        "colab": {
          "base_uri": "https://localhost:8080/"
        },
        "id": "fb-kx5pGcaL6",
        "outputId": "f6416e79-6346-4bd5-cc9e-8ed72502b430"
      },
      "execution_count": 300,
      "outputs": [
        {
          "output_type": "execute_result",
          "data": {
            "text/plain": [
              "tensor([[ 224, 2201, 2302,  ..., 2443,  722, 1640],\n",
              "        [2964, 1040, 2334,  ..., 2446, 1020, 3109]])"
            ]
          },
          "metadata": {},
          "execution_count": 300
        }
      ]
    },
    {
      "cell_type": "code",
      "source": [
        "train_data.pos_edge_label"
      ],
      "metadata": {
        "colab": {
          "base_uri": "https://localhost:8080/"
        },
        "id": "c0MdEd1WcsBD",
        "outputId": "acb438f7-080c-4f72-c2c0-0c1493ef9f55"
      },
      "execution_count": 301,
      "outputs": [
        {
          "output_type": "execute_result",
          "data": {
            "text/plain": [
              "tensor([ 47.,  42., 293.,  ...,  95.,  28.,  91.])"
            ]
          },
          "metadata": {},
          "execution_count": 301
        }
      ]
    },
    {
      "cell_type": "markdown",
      "source": [],
      "metadata": {
        "id": "0owWO0e1Xz2L"
      }
    },
    {
      "cell_type": "code",
      "source": [
        "filtered_df = county_flow_df[(county_flow_df['src'] == 2201) & (county_flow_df['dst'] == 1040)]\n",
        "print(filtered_df)"
      ],
      "metadata": {
        "colab": {
          "base_uri": "https://localhost:8080/"
        },
        "id": "Jl9dWI1kcowK",
        "outputId": "a71204e9-a338-4f39-eccd-93901a3f66c4"
      },
      "execution_count": 299,
      "outputs": [
        {
          "output_type": "stream",
          "name": "stdout",
          "text": [
            "      fips_orig fips_dest  flow   src   dst\n",
            "77098    041033    021107    42  2201  1040\n"
          ]
        }
      ]
    },
    {
      "cell_type": "code",
      "source": [
        "county_node_df = pd.read_csv('county_node_info.csv', dtype={\"GEOID\": str})\n",
        "county_flow_df = pd.read_csv('county_flow.csv', dtype={\"fips_orig\": str, \"fips_dest\": str})\n",
        "\n",
        "# Step 1: Create a mapping from GEOID to index and\n",
        "# map fips_orig and fips_dest in county_flow_df to indices\n",
        "geo_to_index = {geo_id: idx for idx, geo_id in enumerate(county_node_df['GEOID'])}\n",
        "\n",
        "county_flow_df['src'] = county_flow_df['fips_orig'].map(geo_to_index)\n",
        "county_flow_df['dst'] = county_flow_df['fips_dest'].map(geo_to_index)\n",
        "\n",
        "\n",
        "# Drop any rows with missing mappings (i.e., if a fips code doesn't exist in county_node_df)\n",
        "county_flow_df = county_flow_df.dropna(subset=['src', 'dst']).astype({'src': int, 'dst': int})"
      ],
      "metadata": {
        "id": "FmZXGb6G9Mig"
      },
      "execution_count": 96,
      "outputs": []
    },
    {
      "cell_type": "markdown",
      "source": [
        "# Model Building"
      ],
      "metadata": {
        "id": "NKr3msRGdgQG"
      }
    },
    {
      "cell_type": "code",
      "source": [
        "import torch\n",
        "import torch_scatter\n",
        "import torch.nn as nn\n",
        "import torch.nn.functional as F\n",
        "\n",
        "import torch_geometric.nn as pyg_nn\n",
        "import torch_geometric.utils as pyg_utils\n",
        "\n",
        "from torch import Tensor\n",
        "from typing import Union, Tuple, Optional\n",
        "from torch_geometric.typing import (OptPairTensor, Adj, Size, NoneType,\n",
        "                                    OptTensor)\n",
        "\n",
        "from torch.nn import Parameter, Linear\n",
        "from torch_sparse import SparseTensor, set_diag\n",
        "from torch_geometric.nn.conv import MessagePassing\n",
        "from torch_geometric.utils import remove_self_loops, add_self_loops, softmax\n",
        "\n",
        "class GNNStack(torch.nn.Module):\n",
        "    def __init__(self, input_dim, hidden_dim, output_dim, args, emb=False):\n",
        "        super(GNNStack, self).__init__()\n",
        "        conv_model = self.build_conv_model(args.model_type)\n",
        "        self.convs = nn.ModuleList()\n",
        "        self.bns = nn.ModuleList()\n",
        "        self.convs.append(conv_model(input_dim, hidden_dim))\n",
        "        assert (args.num_layers >= 1), 'Number of layers is not >=1'\n",
        "        for l in range(args.num_layers-1):\n",
        "            self.convs.append(conv_model(args.heads * hidden_dim, hidden_dim))\n",
        "\n",
        "        # post-message-passing\n",
        "        # times 2 because we concatenate node embedding\n",
        "        self.link_regressor = nn.Sequential(\n",
        "            nn.Linear(2 * args.heads * hidden_dim, hidden_dim),\n",
        "            nn.Dropout(args.dropout),\n",
        "            nn.Linear(hidden_dim, output_dim))\n",
        "\n",
        "        self.dropout = args.dropout\n",
        "\n",
        "        for _ in range(args.num_layers):\n",
        "            self.bns.append(torch.nn.BatchNorm1d(args.heads *hidden_dim))\n",
        "\n",
        "        self.num_layers = args.num_layers\n",
        "        self.prelu = nn.PReLU()\n",
        "        self.emb = emb\n",
        "        self.reset_parameters()\n",
        "\n",
        "    def reset_parameters(self):\n",
        "        # Reset parameters of convolutional layers\n",
        "        for conv in self.convs:\n",
        "            if hasattr(conv, 'reset_parameters'):\n",
        "                conv.reset_parameters()\n",
        "        # Reset parameters of link_regressor layers\n",
        "        for layer in self.link_regressor:\n",
        "            if isinstance(layer, nn.Linear):\n",
        "                layer.reset_parameters()\n",
        "\n",
        "        for bn in self.bns:\n",
        "            bn.reset_parameters()\n",
        "\n",
        "\n",
        "    def build_conv_model(self, model_type):\n",
        "        if model_type == 'GraphSage':\n",
        "            return GraphSage\n",
        "        elif model_type == 'GCN':\n",
        "            return GCNConv\n",
        "        elif model_type == 'GAT':\n",
        "            return GAT\n",
        "\n",
        "    def forward(self, data):\n",
        "        x, post_edge_index, neg_edge_index = data.x, data.pos_edge_label_index, data.neg_edge_label_index\n",
        "        out = x\n",
        "\n",
        "        edge_index = torch.cat([post_edge_index, neg_edge_index], dim=1)\n",
        "        for i in range(self.num_layers):\n",
        "            out = self.convs[i](out, post_edge_index)\n",
        "            out = self.bns[i](out)\n",
        "            out = self.prelu(out)\n",
        "            output = F.dropout(out, p=self.dropout,training=self.training)\n",
        "\n",
        "        if self.emb == True:\n",
        "            return out\n",
        "\n",
        "        return self.predict_edges(out, edge_index)\n",
        "\n",
        "    def predict_edges(self, node_features, edge_index):\n",
        "        # Extract source and destination node embeddings\n",
        "        node_features_src = node_features[edge_index[0]]  # Source nodes\n",
        "        node_features_dst = node_features[edge_index[1]]  # Destination nodes\n",
        "\n",
        "        # Combine embeddings (e.g., using dot product or concatenation)\n",
        "        edge_features = torch.cat([node_features_src, node_features_dst], dim=1)\n",
        "\n",
        "        # Predict edge values (continuous outputs)\n",
        "        edge_predictions = self.link_regressor(edge_features)\n",
        "\n",
        "        return edge_predictions\n",
        "\n",
        "    def loss(self, pred, label):\n",
        "        return F.l1_loss(pred, label)"
      ],
      "metadata": {
        "id": "aCp_9NGOdnoQ"
      },
      "execution_count": 11,
      "outputs": []
    },
    {
      "cell_type": "markdown",
      "source": [
        "## GraphSage\n"
      ],
      "metadata": {
        "id": "U9DtEZ2zdBcf"
      }
    },
    {
      "cell_type": "code",
      "source": [
        "class GraphSage(MessagePassing):\n",
        "\n",
        "    def __init__(self, in_channels, out_channels, normalize = True,\n",
        "                 bias = False, aggr=\"mean\", **kwargs):\n",
        "        super(GraphSage, self).__init__(**kwargs)\n",
        "\n",
        "        self.in_channels = in_channels\n",
        "        self.out_channels = out_channels\n",
        "        self.normalize = normalize\n",
        "        self.aggr = aggr\n",
        "        ############################################################################\n",
        "        # TODO: Your code here!\n",
        "        # Define the (PyTorch) layers needed for the message and update functions below.\n",
        "        # self.lin_l is the linear transformation that you apply to embedding\n",
        "        #            for central node.\n",
        "        # self.lin_r is the linear transformation that you apply to aggregated\n",
        "        #            message from neighbors.\n",
        "        # Don't forget the bias as part of the linear layers!\n",
        "        # Our implementation is ~2 lines, but don't worry if you deviate from this.\n",
        "        self.lin_l = nn.Linear(in_channels, out_channels, bias=bias)\n",
        "        self.lin_r = nn.Linear(in_channels, out_channels, bias=bias)\n",
        "        ############################################################################\n",
        "\n",
        "        self.reset_parameters()\n",
        "\n",
        "    def reset_parameters(self):\n",
        "        self.lin_l.reset_parameters()\n",
        "        self.lin_r.reset_parameters()\n",
        "\n",
        "    def forward(self, x, edge_index, size = None):\n",
        "        \"\"\"\"\"\"\n",
        "\n",
        "        ############################################################################\n",
        "        # TODO: Your code here!\n",
        "        # Implement message passing, as well as any post-processing (our update rule).\n",
        "        # 1. Call the propagate function to conduct the message passing.\n",
        "        #    1.1 See the description of propagate above or the following link for more information:\n",
        "        #        https://pytorch-geometric.readthedocs.io/en/latest/notes/create_gnn.html\n",
        "        #    1.2 We will only use the representation for neighbor nodes (x_j), so by default\n",
        "        #        we pass the same representation for central and neighbor nodes as x=(x, x).\n",
        "        # 2. Update our node embedding with skip connection from the previous layer.\n",
        "        # 3. If normalize is set, do L-2 normalization (defined in\n",
        "        #    torch.nn.functional)\n",
        "        out = self.propagate(edge_index, x=(x,x), size=size)\n",
        "        out = self.lin_l(x) + self.lin_r(out)\n",
        "        if self.normalize:\n",
        "            out = F.normalize(out, p=2, dim=-1)\n",
        "\n",
        "        return out\n",
        "\n",
        "    def message(self, x_j):\n",
        "\n",
        "        ############################################################################\n",
        "        # TODO: Your code here!\n",
        "        # Implement your message function here.\n",
        "        # Hint: Look at the formulation of the mean aggregation function, focusing on\n",
        "        # what message each neighboring node passes.\n",
        "        #\n",
        "        # Our implementation is ~1 lines, but don't worry if you deviate from this.\n",
        "        out = x_j\n",
        "        ############################################################################\n",
        "\n",
        "        return out\n",
        "\n",
        "    def aggregate(self, inputs, index, dim_size = None):\n",
        "        # The axis along which to index number of nodes.\n",
        "        node_dim = self.node_dim\n",
        "\n",
        "        ############################################################################\n",
        "        # TODO: Your code here!\n",
        "        # Implement your aggregate function here.\n",
        "        # See here as how to use torch_scatter.scatter:\n",
        "        # https://pytorch-scatter.readthedocs.io/en/latest/functions/scatter.html#torch_scatter.scatter\n",
        "        #\n",
        "        # Our implementation is ~1 lines, but don't worry if you deviate from this.\n",
        "        out = torch_scatter.scatter(inputs, index, dim=node_dim, reduce=self.aggr)\n",
        "\n",
        "        ############################################################################\n",
        "\n",
        "        return out"
      ],
      "metadata": {
        "id": "FRy6nRB2dEWr"
      },
      "execution_count": 13,
      "outputs": []
    },
    {
      "cell_type": "markdown",
      "source": [
        "## GAT\n"
      ],
      "metadata": {
        "id": "lV2etmynxHZY"
      }
    },
    {
      "cell_type": "code",
      "source": [
        "class GAT(MessagePassing):\n",
        "\n",
        "    def __init__(self, in_channels, out_channels, heads = 2,\n",
        "                 negative_slope = 0.2, dropout = 0., **kwargs):\n",
        "        super(GAT, self).__init__(node_dim=0, **kwargs)\n",
        "\n",
        "        self.in_channels = in_channels\n",
        "        self.out_channels = out_channels\n",
        "        self.heads = heads\n",
        "        self.negative_slope = negative_slope\n",
        "        self.dropout = dropout\n",
        "\n",
        "        ############################################################################\n",
        "        # TODO: Your code here!\n",
        "        # Define the layers needed for the message functions below.\n",
        "        # self.lin_l is the linear transformation that you apply to embeddings\n",
        "        # BEFORE message passing.\n",
        "        #\n",
        "        # Pay attention to dimensions of the linear layers, since we're using\n",
        "        # multi-head attention.\n",
        "        # Our implementation is ~1 lines, but don't worry if you deviate from this.\n",
        "        self.lin_l = nn.Linear(in_channels, heads * out_channels, bias=False)\n",
        "        ############################################################################\n",
        "\n",
        "        self.lin_r = self.lin_l\n",
        "\n",
        "        ############################################################################\n",
        "        # TODO: Your code here!\n",
        "        # Define the attention parameters \\overrightarrow{a_l/r}^T in the above intro.\n",
        "        # You have to deal with multi-head scenarios.\n",
        "        # Use nn.Parameter instead of nn.Linear\n",
        "        # Our implementation is ~2 lines, but don't worry if you deviate from this.\n",
        "        self.att_l = nn.Parameter(torch.Tensor(1, heads, out_channels))\n",
        "        self.att_r = nn.Parameter(torch.Tensor(1, heads, out_channels))\n",
        "        ############################################################################\n",
        "\n",
        "        self.reset_parameters()\n",
        "\n",
        "    def reset_parameters(self):\n",
        "        nn.init.xavier_uniform_(self.lin_l.weight)\n",
        "        nn.init.xavier_uniform_(self.lin_r.weight)\n",
        "        nn.init.xavier_uniform_(self.att_l)\n",
        "        nn.init.xavier_uniform_(self.att_r)\n",
        "\n",
        "    def forward(self, x, edge_index, size = None):\n",
        "\n",
        "        H, C = self.heads, self.out_channels\n",
        "\n",
        "        ############################################################################\n",
        "        # TODO: Your code here!\n",
        "        # Implement message passing, as well as any pre- and post-processing (our update rule).\n",
        "        # 1. First apply linear transformation to node embeddings, and split that\n",
        "        #    into multiple heads. We use the same representations for source and\n",
        "        #    target nodes, but apply different linear weights (W_l and W_r)\n",
        "        # 2. Calculate alpha vectors for central nodes (alpha_l) and neighbor nodes (alpha_r).\n",
        "        # 3. Call propagate function to conduct the message passing.\n",
        "        #    3.1 Remember to pass alpha = (alpha_l, alpha_r) as a parameter.\n",
        "        #    3.2 See there for more information: https://pytorch-geometric.readthedocs.io/en/latest/notes/create_gnn.html\n",
        "        # 4. Transform the output back to the shape of [N, H * C].\n",
        "        # Our implementation is ~5 lines, but don't worry if you deviate from this.\n",
        "        x_l, x_r = self.lin_l(x).view(-1, H, C), self.lin_r(x).view(-1, H, C)\n",
        "        alpha_l = (x_l * self.att_l).sum(dim=-1)\n",
        "        alpha_r = (x_r * self.att_r).sum(dim=-1)\n",
        "\n",
        "        out = self.propagate(edge_index, x=(x_l,x_r), alpha=(alpha_l, alpha_r), size=size)\n",
        "        out = out.view(-1, H * C)\n",
        "        ############################################################################\n",
        "\n",
        "        return out\n",
        "\n",
        "\n",
        "    def message(self, x_j, alpha_j, alpha_i, index, ptr, size_i):\n",
        "\n",
        "        ############################################################################\n",
        "        # TODO: Your code here!\n",
        "        # Implement your message function. Putting the attention in message\n",
        "        # instead of in update is a little tricky.\n",
        "        # 1. Calculate the final attention weights using alpha_i and alpha_j,\n",
        "        #    and apply leaky Relu.\n",
        "        # 2. Calculate softmax over the neighbor nodes for all the nodes. Use\n",
        "        #    torch_geometric.utils.softmax instead of the one in Pytorch.\n",
        "        # 3. Apply dropout to attention weights (alpha).\n",
        "        # 4. Multiply embeddings and attention weights. As a sanity check, the output\n",
        "        #    should be of shape [E, H, C].\n",
        "        # 5. ptr (LongTensor, optional): If given, computes the softmax based on\n",
        "        #    sorted inputs in CSR representation. You can simply pass it to softmax.\n",
        "        # 6. size_i: corresponds to the num_nodes variable input to the torch.geometric.softmax method\n",
        "        # Our implementation is ~4-5 lines, but don't worry if you deviate from this.\n",
        "        alpha = alpha_i + alpha_j\n",
        "        out = F.leaky_relu(alpha, self.negative_slope)\n",
        "        out = torch_geometric.utils.softmax(out, index, ptr, size_i)\n",
        "        out = F.dropout(out, p=self.dropout, training=self.training)\n",
        "        out = x_j * out.unsqueeze(-1)\n",
        "        ############################################################################\n",
        "\n",
        "        return out\n",
        "\n",
        "\n",
        "    def aggregate(self, inputs, index, dim_size = None):\n",
        "\n",
        "        ############################################################################\n",
        "        # TODO: Your code here!\n",
        "        # Implement your aggregate function here.\n",
        "        # See here as how to use torch_scatter.scatter: https://pytorch-scatter.readthedocs.io/en/latest/_modules/torch_scatter/scatter.html\n",
        "        # Pay attention to \"reduce\" parameter is different from that in GraphSage.\n",
        "        # Our implementation is ~1 lines, but don't worry if you deviate from this.\n",
        "        out = torch_scatter.scatter(inputs, index, dim=0, dim_size=dim_size, reduce='sum')\n",
        "        ############################################################################\n",
        "\n",
        "        return out"
      ],
      "metadata": {
        "id": "6tsoeQzjxJ9L"
      },
      "execution_count": 12,
      "outputs": []
    },
    {
      "cell_type": "markdown",
      "source": [
        "## Optimizer"
      ],
      "metadata": {
        "id": "MQ6POCTRgi1O"
      }
    },
    {
      "cell_type": "code",
      "source": [
        "import torch.optim as optim\n",
        "\n",
        "def build_optimizer(args, params):\n",
        "    weight_decay = args.weight_decay\n",
        "    filter_fn = filter(lambda p : p.requires_grad, params)\n",
        "    if args.opt == 'adam':\n",
        "        optimizer = optim.Adam(filter_fn, lr=args.lr, weight_decay=weight_decay)\n",
        "    elif args.opt == 'sgd':\n",
        "        optimizer = optim.SGD(filter_fn, lr=args.lr, momentum=0.95, weight_decay=weight_decay)\n",
        "    elif args.opt == 'rmsprop':\n",
        "        optimizer = optim.RMSprop(filter_fn, lr=args.lr, weight_decay=weight_decay)\n",
        "    elif args.opt == 'adagrad':\n",
        "        optimizer = optim.Adagrad(filter_fn, lr=args.lr, weight_decay=weight_decay)\n",
        "    if args.opt_scheduler == 'none':\n",
        "        return None, optimizer\n",
        "    elif args.opt_scheduler == 'step':\n",
        "        scheduler = optim.lr_scheduler.StepLR(optimizer, step_size=args.opt_decay_step, gamma=args.opt_decay_rate)\n",
        "    elif args.opt_scheduler == 'cos':\n",
        "        scheduler = optim.lr_scheduler.CosineAnnealingLR(optimizer, T_max=args.opt_restart)\n",
        "    return scheduler, optimizer"
      ],
      "metadata": {
        "id": "H0nIkNBIgiIb"
      },
      "execution_count": 14,
      "outputs": []
    },
    {
      "cell_type": "markdown",
      "source": [
        "# Model Training and Evaluation"
      ],
      "metadata": {
        "id": "NvY_9LEXcUAr"
      }
    },
    {
      "cell_type": "code",
      "source": [
        "pip install torcheval"
      ],
      "metadata": {
        "colab": {
          "base_uri": "https://localhost:8080/"
        },
        "id": "xw3IQo05_f8k",
        "outputId": "5151f7b4-62a6-4fa7-a062-5c4e5d04f370"
      },
      "execution_count": 15,
      "outputs": [
        {
          "output_type": "stream",
          "name": "stdout",
          "text": [
            "Collecting torcheval\n",
            "  Downloading torcheval-0.0.7-py3-none-any.whl.metadata (8.6 kB)\n",
            "Requirement already satisfied: typing-extensions in /usr/local/lib/python3.10/dist-packages (from torcheval) (4.12.2)\n",
            "Downloading torcheval-0.0.7-py3-none-any.whl (179 kB)\n",
            "\u001b[?25l   \u001b[90m━━━━━━━━━━━━━━━━━━━━━━━━━━━━━━━━━━━━━━━━\u001b[0m \u001b[32m0.0/179.2 kB\u001b[0m \u001b[31m?\u001b[0m eta \u001b[36m-:--:--\u001b[0m\r\u001b[2K   \u001b[90m━━━━━━━━━━━━━━━━━━━━━━━━━━━━━━━━━━━━━━━━\u001b[0m \u001b[32m179.2/179.2 kB\u001b[0m \u001b[31m8.0 MB/s\u001b[0m eta \u001b[36m0:00:00\u001b[0m\n",
            "\u001b[?25hInstalling collected packages: torcheval\n",
            "Successfully installed torcheval-0.0.7\n"
          ]
        }
      ]
    },
    {
      "cell_type": "code",
      "source": [
        "from torch_geometric.data import DataLoader\n",
        "from tqdm import trange\n",
        "import matplotlib.pyplot as plt\n",
        "from torcheval.metrics.functional import r2_score\n",
        "#from sklearn.metrics import r2_score\n",
        "\n",
        "def train(args):\n",
        "\n",
        "    transform = T.Compose([T.ToSparseTensor(),\n",
        "                           T.RandomLinkSplit(is_undirected=False,\n",
        "                                             neg_sampling_ratio=0.5,\n",
        "                                             split_labels=True)])\n",
        "    dataset = args.dataset\n",
        "    train_data, val_data, test_data = transform(dataset)\n",
        "    train_data, val_data, test_data = edge_mapping(train_data), edge_mapping(val_data), edge_mapping(test_data)\n",
        "    #print(\"Node task. test set size:\", np.sum(dataset[0]['test_mask'].numpy()))\n",
        "    #test_loader = loader = DataLoader(dataset, batch_size=args.batch_size, shuffle=False)\n",
        "\n",
        "    # build model\n",
        "    model = GNNStack(dataset.num_node_features, args.hidden_dim, dataset.num_classes,\n",
        "                            args)\n",
        "    scheduler, opt = build_optimizer(args, model.parameters())\n",
        "\n",
        "    # train\n",
        "    train_losses = []\n",
        "    val_losses = []\n",
        "    test_losses = []\n",
        "    train_r2_scores = []\n",
        "    val_r2_scores = []\n",
        "    test_r2_scores = []\n",
        "\n",
        "    best_val_loss = float('inf')\n",
        "    best_model = None\n",
        "\n",
        "    for epoch in trange(args.epochs, desc=\"Training\", unit=\"Epochs\"):\n",
        "        model.train()\n",
        "        #for batch in loader:\n",
        "        opt.zero_grad()\n",
        "        pred = model(train_data).squeeze(-1)\n",
        "        label = torch.cat([train_data.pos_edge_label, train_data.neg_edge_label]).float()\n",
        "        #label = train_data.pos_edge_label.float()\n",
        "        #pred = pred[batch.train_mask]\n",
        "        #label = label[batch.train_mask]\n",
        "        label = torch.log1p(label)\n",
        "        loss = model.loss(label, pred)\n",
        "        loss.backward()\n",
        "        opt.step()\n",
        "\n",
        "        train_losses.append(loss.item())\n",
        "        train_r2 = r2_score(pred, label).item()\n",
        "        train_r2_scores.append(train_r2)\n",
        "\n",
        "        val_loss, val_r2 = test(val_data, model)\n",
        "        val_losses.append(val_loss)\n",
        "        val_r2_scores.append(val_r2)\n",
        "\n",
        "        print(\n",
        "            f\"Epoch {epoch + 1}: Training Loss {round(loss.item(), 5)}, \"\n",
        "            f\"Training R2 {round(train_r2, 5)}\",\n",
        "            f\"Validation Loss {round(val_loss, 5)}\",\n",
        "            f\"Validation R2 {round(val_r2, 5)}\"\n",
        "        )\n",
        "\n",
        "        if val_loss < best_val_loss:\n",
        "            best_val_loss = val_loss\n",
        "            best_model = copy.deepcopy(model)\n",
        "\n",
        "        test_loss, test_r2 = test(test_data, model)\n",
        "        test_losses.append(test_loss)\n",
        "        test_r2_scores.append(test_r2)\n",
        "\n",
        "    return train_losses, val_losses, test_losses, best_model, test_data\n",
        "\n",
        "\n",
        "def test(data, test_model, save_model_preds=False, model_type=None,\n",
        "         feature_type=None):\n",
        "    test_model.eval()\n",
        "\n",
        "    #correct = 0\n",
        "    # Note that Cora is only one graph!\n",
        "    with torch.no_grad():\n",
        "        # max(dim=1) returns values, indices tuple; only need indices\n",
        "        pred = test_model(data).squeeze(-1)\n",
        "        label = torch.cat([data.pos_edge_label, data.neg_edge_label]).float()\n",
        "        label = torch.log1p(label)\n",
        "        loss = test_model.loss(pred, label)\n",
        "        r2 = r2_score(pred, label).item()\n",
        "        #mask = data.val_mask if is_validation else data.test_mask\n",
        "        # node classification: only evaluate on nodes in test set\n",
        "        #pred = pred[mask]\n",
        "        #label = label[mask]\n",
        "\n",
        "        if save_model_preds:\n",
        "            print (\"Saving Model Predictions for Model Type\", model_type)\n",
        "\n",
        "            data = {}\n",
        "            data['pred'] = pred.view(-1).cpu().detach().numpy()\n",
        "            data['label'] = label.view(-1).cpu().detach().numpy()\n",
        "\n",
        "            df = pd.DataFrame(data=data)\n",
        "            # Save locally as csv\n",
        "            df.to_csv('flow_' + model_type + \"_\" + feature_type +\n",
        "                      '.csv', sep=',', index=False)\n",
        "            # save model object as a pickle\n",
        "\n",
        "        #correct += pred.eq(label).sum().item()\n",
        "\n",
        "    #total = 0\n",
        "    #for data in loader.dataset:\n",
        "    #total += torch.sum(data.val_mask if is_validation else data.test_mask).item()\n",
        "\n",
        "    return loss.item(), r2\n",
        "\n",
        "class objectview(object):\n",
        "    def __init__(self, d):\n",
        "        self.__dict__ = d\n"
      ],
      "metadata": {
        "id": "lPO1YankcYkn"
      },
      "execution_count": 28,
      "outputs": []
    },
    {
      "cell_type": "code",
      "source": [
        "def run_pipeline(arg):\n",
        "\n",
        "    args = objectview(arg)\n",
        "    train_losses, val_losses, test_losses, best_model, test_data = train(args)\n",
        "\n",
        "        # Run test for our best model to save the predictions!\n",
        "    best_loss, best_r2 = test(test_data, best_model, save_model_preds=True,\n",
        "                              model_type=args.model_type, feature_type=args.feature_type)\n",
        "    #print(\"Maximum test set accuracy: {0}\".format(max(test_accs)))\n",
        "    print(\"Minimum validation loss: {0}\".format(min(val_losses)))\n",
        "    print(\"Minimum test loss: {0}\".format(min(test_losses)))\n",
        "    print(\"Minimum test R2: {0}\".format(best_r2))\n",
        "\n",
        "    plt.title(\"Migration Flow Prediction L1 Loss\")\n",
        "    plt.plot(train_losses, label=\"training loss\" + \" - \" + args.model_type)\n",
        "    plt.plot(val_losses, label=\"validation loss\" + \" - \" + args.model_type)\n",
        "    plt.plot(test_losses, label=\"test loss\" + \" - \" + args.model_type)\n",
        "    plt.legend()\n",
        "    plt.show()"
      ],
      "metadata": {
        "id": "292GY-nDytsK"
      },
      "execution_count": 44,
      "outputs": []
    },
    {
      "cell_type": "markdown",
      "source": [
        "## Running models"
      ],
      "metadata": {
        "id": "0viIPXr1zaSh"
      }
    },
    {
      "cell_type": "code",
      "source": [
        "device = torch.device('cuda' if torch.cuda.is_available() else 'cpu')\n",
        "args = {\n",
        "    'device': device,\n",
        "    'num_layers': 1,\n",
        "    'hidden_dim': 128,\n",
        "    \"out_dim\": 1,\n",
        "    'dropout': 0.2,\n",
        "    'lr': 0.01,\n",
        "    'epochs': 120,\n",
        "    'model_type': \"GCN\",\n",
        "    'batch_size': 32,\n",
        "    'heads': 1,\n",
        "    'opt': 'adam',\n",
        "    'opt_scheduler': 'none',\n",
        "    'opt_restart': 0,\n",
        "    'weight_decay': 5e-3,\n",
        "    'feature_type': 'full',\n",
        "    'dataset': data_full\n",
        "}\n",
        "\n",
        "args_GraphSage = args.copy()\n",
        "args_GraphSage[\"model_type\"] = \"GraphSage\"\n",
        "\n",
        "args_GAT = args.copy()\n",
        "args_GAT[\"model_type\"] = \"GAT\"\n",
        "args_GAT[\"heads\"] = 2"
      ],
      "metadata": {
        "id": "y_y9kbmLmR5d"
      },
      "execution_count": 46,
      "outputs": []
    },
    {
      "cell_type": "code",
      "source": [
        "run_pipeline(args_GraphSage)"
      ],
      "metadata": {
        "colab": {
          "base_uri": "https://localhost:8080/",
          "height": 1000
        },
        "id": "ey4ndok86A19",
        "outputId": "7b33f4e4-ddf1-4d1d-8cd1-e497e9bbdfb2"
      },
      "execution_count": 47,
      "outputs": [
        {
          "output_type": "stream",
          "name": "stderr",
          "text": [
            "Training:   1%|          | 1/120 [00:01<03:53,  1.96s/Epochs]"
          ]
        },
        {
          "output_type": "stream",
          "name": "stdout",
          "text": [
            "Epoch 1: Training Loss 2.77772, Training R2 -1.46467 Validation Loss 2.73577 Validation R2 -1.44342\n"
          ]
        },
        {
          "output_type": "stream",
          "name": "stderr",
          "text": [
            "\rTraining:   2%|▏         | 2/120 [00:03<03:31,  1.79s/Epochs]"
          ]
        },
        {
          "output_type": "stream",
          "name": "stdout",
          "text": [
            "Epoch 2: Training Loss 3.75502, Training R2 -3.99646 Validation Loss 2.79913 Validation R2 -1.56766\n"
          ]
        },
        {
          "output_type": "stream",
          "name": "stderr",
          "text": [
            "\rTraining:   2%|▎         | 3/120 [00:05<03:28,  1.78s/Epochs]"
          ]
        },
        {
          "output_type": "stream",
          "name": "stdout",
          "text": [
            "Epoch 3: Training Loss 1.92847, Training R2 -0.03014 Validation Loss 2.79191 Validation R2 -1.51777\n"
          ]
        },
        {
          "output_type": "stream",
          "name": "stderr",
          "text": [
            "\rTraining:   3%|▎         | 4/120 [00:06<03:06,  1.61s/Epochs]"
          ]
        },
        {
          "output_type": "stream",
          "name": "stdout",
          "text": [
            "Epoch 4: Training Loss 1.67092, Training R2 0.1974 Validation Loss 2.74903 Validation R2 -1.40615\n"
          ]
        },
        {
          "output_type": "stream",
          "name": "stderr",
          "text": [
            "\rTraining:   4%|▍         | 5/120 [00:07<02:46,  1.45s/Epochs]"
          ]
        },
        {
          "output_type": "stream",
          "name": "stdout",
          "text": [
            "Epoch 5: Training Loss 1.70935, Training R2 0.13616 Validation Loss 2.71794 Validation R2 -1.34851\n"
          ]
        },
        {
          "output_type": "stream",
          "name": "stderr",
          "text": [
            "\rTraining:   5%|▌         | 6/120 [00:09<02:35,  1.36s/Epochs]"
          ]
        },
        {
          "output_type": "stream",
          "name": "stdout",
          "text": [
            "Epoch 6: Training Loss 1.60181, Training R2 0.20734 Validation Loss 2.71116 Validation R2 -1.35127\n"
          ]
        },
        {
          "output_type": "stream",
          "name": "stderr",
          "text": [
            "\rTraining:   6%|▌         | 7/120 [00:10<02:27,  1.31s/Epochs]"
          ]
        },
        {
          "output_type": "stream",
          "name": "stdout",
          "text": [
            "Epoch 7: Training Loss 1.47206, Training R2 0.29921 Validation Loss 2.70621 Validation R2 -1.34535\n"
          ]
        },
        {
          "output_type": "stream",
          "name": "stderr",
          "text": [
            "\rTraining:   7%|▋         | 8/120 [00:11<02:23,  1.28s/Epochs]"
          ]
        },
        {
          "output_type": "stream",
          "name": "stdout",
          "text": [
            "Epoch 8: Training Loss 1.595, Training R2 0.21798 Validation Loss 2.67794 Validation R2 -1.28081\n"
          ]
        },
        {
          "output_type": "stream",
          "name": "stderr",
          "text": [
            "\rTraining:   8%|▊         | 9/120 [00:12<02:19,  1.26s/Epochs]"
          ]
        },
        {
          "output_type": "stream",
          "name": "stdout",
          "text": [
            "Epoch 9: Training Loss 1.49162, Training R2 0.27087 Validation Loss 2.63363 Validation R2 -1.17598\n"
          ]
        },
        {
          "output_type": "stream",
          "name": "stderr",
          "text": [
            "\rTraining:   8%|▊         | 10/120 [00:13<02:17,  1.25s/Epochs]"
          ]
        },
        {
          "output_type": "stream",
          "name": "stdout",
          "text": [
            "Epoch 10: Training Loss 1.42463, Training R2 0.30215 Validation Loss 2.60623 Validation R2 -1.09982\n"
          ]
        },
        {
          "output_type": "stream",
          "name": "stderr",
          "text": [
            "\rTraining:   9%|▉         | 11/120 [00:15<02:13,  1.23s/Epochs]"
          ]
        },
        {
          "output_type": "stream",
          "name": "stdout",
          "text": [
            "Epoch 11: Training Loss 1.47283, Training R2 0.27452 Validation Loss 2.60871 Validation R2 -1.08707\n"
          ]
        },
        {
          "output_type": "stream",
          "name": "stderr",
          "text": [
            "\rTraining:  10%|█         | 12/120 [00:16<02:20,  1.30s/Epochs]"
          ]
        },
        {
          "output_type": "stream",
          "name": "stdout",
          "text": [
            "Epoch 12: Training Loss 1.40364, Training R2 0.34072 Validation Loss 2.62543 Validation R2 -1.11006\n"
          ]
        },
        {
          "output_type": "stream",
          "name": "stderr",
          "text": [
            "\rTraining:  11%|█         | 13/120 [00:18<02:30,  1.40s/Epochs]"
          ]
        },
        {
          "output_type": "stream",
          "name": "stdout",
          "text": [
            "Epoch 13: Training Loss 1.40654, Training R2 0.36215 Validation Loss 2.62709 Validation R2 -1.11012\n"
          ]
        },
        {
          "output_type": "stream",
          "name": "stderr",
          "text": [
            "\rTraining:  12%|█▏        | 14/120 [00:19<02:40,  1.51s/Epochs]"
          ]
        },
        {
          "output_type": "stream",
          "name": "stdout",
          "text": [
            "Epoch 14: Training Loss 1.45485, Training R2 0.34117 Validation Loss 2.60229 Validation R2 -1.06281\n"
          ]
        },
        {
          "output_type": "stream",
          "name": "stderr",
          "text": [
            "\rTraining:  12%|█▎        | 15/120 [00:21<02:32,  1.45s/Epochs]"
          ]
        },
        {
          "output_type": "stream",
          "name": "stdout",
          "text": [
            "Epoch 15: Training Loss 1.40062, Training R2 0.36172 Validation Loss 2.56084 Validation R2 -0.98987\n"
          ]
        },
        {
          "output_type": "stream",
          "name": "stderr",
          "text": [
            "\rTraining:  13%|█▎        | 16/120 [00:22<02:24,  1.39s/Epochs]"
          ]
        },
        {
          "output_type": "stream",
          "name": "stdout",
          "text": [
            "Epoch 16: Training Loss 1.37512, Training R2 0.35743 Validation Loss 2.52653 Validation R2 -0.93686\n"
          ]
        },
        {
          "output_type": "stream",
          "name": "stderr",
          "text": [
            "\rTraining:  14%|█▍        | 17/120 [00:23<02:17,  1.33s/Epochs]"
          ]
        },
        {
          "output_type": "stream",
          "name": "stdout",
          "text": [
            "Epoch 17: Training Loss 1.40552, Training R2 0.32341 Validation Loss 2.51478 Validation R2 -0.9266\n"
          ]
        },
        {
          "output_type": "stream",
          "name": "stderr",
          "text": [
            "\rTraining:  15%|█▌        | 18/120 [00:24<02:12,  1.30s/Epochs]"
          ]
        },
        {
          "output_type": "stream",
          "name": "stdout",
          "text": [
            "Epoch 18: Training Loss 1.38294, Training R2 0.33562 Validation Loss 2.51978 Validation R2 -0.9438\n"
          ]
        },
        {
          "output_type": "stream",
          "name": "stderr",
          "text": [
            "\rTraining:  16%|█▌        | 19/120 [00:26<02:07,  1.26s/Epochs]"
          ]
        },
        {
          "output_type": "stream",
          "name": "stdout",
          "text": [
            "Epoch 19: Training Loss 1.36854, Training R2 0.34694 Validation Loss 2.52149 Validation R2 -0.94904\n"
          ]
        },
        {
          "output_type": "stream",
          "name": "stderr",
          "text": [
            "\rTraining:  17%|█▋        | 20/120 [00:27<02:04,  1.24s/Epochs]"
          ]
        },
        {
          "output_type": "stream",
          "name": "stdout",
          "text": [
            "Epoch 20: Training Loss 1.39516, Training R2 0.33172 Validation Loss 2.50493 Validation R2 -0.91365\n"
          ]
        },
        {
          "output_type": "stream",
          "name": "stderr",
          "text": [
            "\rTraining:  18%|█▊        | 21/120 [00:28<02:01,  1.22s/Epochs]"
          ]
        },
        {
          "output_type": "stream",
          "name": "stdout",
          "text": [
            "Epoch 21: Training Loss 1.38629, Training R2 0.33781 Validation Loss 2.4711 Validation R2 -0.84151\n"
          ]
        },
        {
          "output_type": "stream",
          "name": "stderr",
          "text": [
            "\rTraining:  18%|█▊        | 22/120 [00:29<01:59,  1.22s/Epochs]"
          ]
        },
        {
          "output_type": "stream",
          "name": "stdout",
          "text": [
            "Epoch 22: Training Loss 1.35907, Training R2 0.35832 Validation Loss 2.43337 Validation R2 -0.76061\n"
          ]
        },
        {
          "output_type": "stream",
          "name": "stderr",
          "text": [
            "\rTraining:  19%|█▉        | 23/120 [00:31<02:04,  1.28s/Epochs]"
          ]
        },
        {
          "output_type": "stream",
          "name": "stdout",
          "text": [
            "Epoch 23: Training Loss 1.36383, Training R2 0.35625 Validation Loss 2.4086 Validation R2 -0.70319\n"
          ]
        },
        {
          "output_type": "stream",
          "name": "stderr",
          "text": [
            "\rTraining:  20%|██        | 24/120 [00:32<02:15,  1.41s/Epochs]"
          ]
        },
        {
          "output_type": "stream",
          "name": "stdout",
          "text": [
            "Epoch 24: Training Loss 1.37217, Training R2 0.35485 Validation Loss 2.40206 Validation R2 -0.68041\n"
          ]
        },
        {
          "output_type": "stream",
          "name": "stderr",
          "text": [
            "\rTraining:  21%|██        | 25/120 [00:34<02:22,  1.50s/Epochs]"
          ]
        },
        {
          "output_type": "stream",
          "name": "stdout",
          "text": [
            "Epoch 25: Training Loss 1.35882, Training R2 0.3699 Validation Loss 2.40313 Validation R2 -0.67688\n"
          ]
        },
        {
          "output_type": "stream",
          "name": "stderr",
          "text": [
            "\rTraining:  22%|██▏       | 26/120 [00:36<02:20,  1.49s/Epochs]"
          ]
        },
        {
          "output_type": "stream",
          "name": "stdout",
          "text": [
            "Epoch 26: Training Loss 1.35912, Training R2 0.37495 Validation Loss 2.39532 Validation R2 -0.66552\n"
          ]
        },
        {
          "output_type": "stream",
          "name": "stderr",
          "text": [
            "\rTraining:  22%|██▎       | 27/120 [00:37<02:10,  1.40s/Epochs]"
          ]
        },
        {
          "output_type": "stream",
          "name": "stdout",
          "text": [
            "Epoch 27: Training Loss 1.36786, Training R2 0.37135 Validation Loss 2.3691 Validation R2 -0.6297\n"
          ]
        },
        {
          "output_type": "stream",
          "name": "stderr",
          "text": [
            "\rTraining:  23%|██▎       | 28/120 [00:38<02:04,  1.35s/Epochs]"
          ]
        },
        {
          "output_type": "stream",
          "name": "stdout",
          "text": [
            "Epoch 28: Training Loss 1.35706, Training R2 0.37533 Validation Loss 2.32856 Validation R2 -0.5758\n"
          ]
        },
        {
          "output_type": "stream",
          "name": "stderr",
          "text": [
            "\rTraining:  24%|██▍       | 29/120 [00:40<02:07,  1.40s/Epochs]"
          ]
        },
        {
          "output_type": "stream",
          "name": "stdout",
          "text": [
            "Epoch 29: Training Loss 1.34702, Training R2 0.37567 Validation Loss 2.28898 Validation R2 -0.52579\n"
          ]
        },
        {
          "output_type": "stream",
          "name": "stderr",
          "text": [
            "\rTraining:  25%|██▌       | 30/120 [00:41<02:10,  1.45s/Epochs]"
          ]
        },
        {
          "output_type": "stream",
          "name": "stdout",
          "text": [
            "Epoch 30: Training Loss 1.35462, Training R2 0.36433 Validation Loss 2.26563 Validation R2 -0.4978\n"
          ]
        },
        {
          "output_type": "stream",
          "name": "stderr",
          "text": [
            "\rTraining:  26%|██▌       | 31/120 [00:42<02:01,  1.37s/Epochs]"
          ]
        },
        {
          "output_type": "stream",
          "name": "stdout",
          "text": [
            "Epoch 31: Training Loss 1.35535, Training R2 0.36144 Validation Loss 2.26006 Validation R2 -0.49145\n"
          ]
        },
        {
          "output_type": "stream",
          "name": "stderr",
          "text": [
            "\rTraining:  27%|██▋       | 32/120 [00:43<01:56,  1.33s/Epochs]"
          ]
        },
        {
          "output_type": "stream",
          "name": "stdout",
          "text": [
            "Epoch 32: Training Loss 1.34697, Training R2 0.36851 Validation Loss 2.259 Validation R2 -0.48809\n"
          ]
        },
        {
          "output_type": "stream",
          "name": "stderr",
          "text": [
            "\rTraining:  28%|██▊       | 33/120 [00:45<01:52,  1.29s/Epochs]"
          ]
        },
        {
          "output_type": "stream",
          "name": "stdout",
          "text": [
            "Epoch 33: Training Loss 1.34989, Training R2 0.36989 Validation Loss 2.24688 Validation R2 -0.46614\n"
          ]
        },
        {
          "output_type": "stream",
          "name": "stderr",
          "text": [
            "\rTraining:  28%|██▊       | 34/120 [00:46<02:00,  1.40s/Epochs]"
          ]
        },
        {
          "output_type": "stream",
          "name": "stdout",
          "text": [
            "Epoch 34: Training Loss 1.3532, Training R2 0.3693 Validation Loss 2.21798 Validation R2 -0.41891\n"
          ]
        },
        {
          "output_type": "stream",
          "name": "stderr",
          "text": [
            "\rTraining:  29%|██▉       | 35/120 [00:48<02:05,  1.47s/Epochs]"
          ]
        },
        {
          "output_type": "stream",
          "name": "stdout",
          "text": [
            "Epoch 35: Training Loss 1.34537, Training R2 0.37407 Validation Loss 2.1798 Validation R2 -0.35923\n"
          ]
        },
        {
          "output_type": "stream",
          "name": "stderr",
          "text": [
            "\rTraining:  30%|███       | 36/120 [00:50<02:09,  1.54s/Epochs]"
          ]
        },
        {
          "output_type": "stream",
          "name": "stdout",
          "text": [
            "Epoch 36: Training Loss 1.34303, Training R2 0.37492 Validation Loss 2.14551 Validation R2 -0.30603\n"
          ]
        },
        {
          "output_type": "stream",
          "name": "stderr",
          "text": [
            "\rTraining:  31%|███       | 37/120 [00:51<01:58,  1.43s/Epochs]"
          ]
        },
        {
          "output_type": "stream",
          "name": "stdout",
          "text": [
            "Epoch 37: Training Loss 1.34925, Training R2 0.37059 Validation Loss 2.12353 Validation R2 -0.27025\n"
          ]
        },
        {
          "output_type": "stream",
          "name": "stderr",
          "text": [
            "\rTraining:  32%|███▏      | 38/120 [00:52<01:52,  1.37s/Epochs]"
          ]
        },
        {
          "output_type": "stream",
          "name": "stdout",
          "text": [
            "Epoch 38: Training Loss 1.34613, Training R2 0.37477 Validation Loss 2.11018 Validation R2 -0.24795\n"
          ]
        },
        {
          "output_type": "stream",
          "name": "stderr",
          "text": [
            "\rTraining:  32%|███▎      | 39/120 [00:54<01:54,  1.41s/Epochs]"
          ]
        },
        {
          "output_type": "stream",
          "name": "stdout",
          "text": [
            "Epoch 39: Training Loss 1.34422, Training R2 0.37823 Validation Loss 2.09194 Validation R2 -0.22388\n"
          ]
        },
        {
          "output_type": "stream",
          "name": "stderr",
          "text": [
            "\rTraining:  33%|███▎      | 40/120 [00:55<01:48,  1.36s/Epochs]"
          ]
        },
        {
          "output_type": "stream",
          "name": "stdout",
          "text": [
            "Epoch 40: Training Loss 1.34613, Training R2 0.37871 Validation Loss 2.05641 Validation R2 -0.18402\n"
          ]
        },
        {
          "output_type": "stream",
          "name": "stderr",
          "text": [
            "\rTraining:  34%|███▍      | 41/120 [00:56<01:44,  1.32s/Epochs]"
          ]
        },
        {
          "output_type": "stream",
          "name": "stdout",
          "text": [
            "Epoch 41: Training Loss 1.34536, Training R2 0.37713 Validation Loss 2.00466 Validation R2 -0.13002\n"
          ]
        },
        {
          "output_type": "stream",
          "name": "stderr",
          "text": [
            "\rTraining:  35%|███▌      | 42/120 [00:57<01:40,  1.29s/Epochs]"
          ]
        },
        {
          "output_type": "stream",
          "name": "stdout",
          "text": [
            "Epoch 42: Training Loss 1.34171, Training R2 0.37659 Validation Loss 1.94815 Validation R2 -0.07387\n"
          ]
        },
        {
          "output_type": "stream",
          "name": "stderr",
          "text": [
            "\rTraining:  36%|███▌      | 43/120 [00:59<01:37,  1.27s/Epochs]"
          ]
        },
        {
          "output_type": "stream",
          "name": "stdout",
          "text": [
            "Epoch 43: Training Loss 1.34214, Training R2 0.37263 Validation Loss 1.90337 Validation R2 -0.02976\n"
          ]
        },
        {
          "output_type": "stream",
          "name": "stderr",
          "text": [
            "\rTraining:  37%|███▋      | 44/120 [01:00<01:38,  1.29s/Epochs]"
          ]
        },
        {
          "output_type": "stream",
          "name": "stdout",
          "text": [
            "Epoch 44: Training Loss 1.34318, Training R2 0.37069 Validation Loss 1.87404 Validation R2 0.00102\n"
          ]
        },
        {
          "output_type": "stream",
          "name": "stderr",
          "text": [
            "\rTraining:  38%|███▊      | 45/120 [01:02<01:45,  1.41s/Epochs]"
          ]
        },
        {
          "output_type": "stream",
          "name": "stdout",
          "text": [
            "Epoch 45: Training Loss 1.34078, Training R2 0.37327 Validation Loss 1.85092 Validation R2 0.02717\n",
            "Epoch 46: Training Loss 1.34085, Training R2 0.37572 Validation Loss 1.81955 Validation R2 0.06022\n"
          ]
        },
        {
          "output_type": "stream",
          "name": "stderr",
          "text": [
            "Training:  39%|███▉      | 47/120 [01:05<01:45,  1.44s/Epochs]"
          ]
        },
        {
          "output_type": "stream",
          "name": "stdout",
          "text": [
            "Epoch 47: Training Loss 1.34143, Training R2 0.37631 Validation Loss 1.7745 Validation R2 0.10264\n"
          ]
        },
        {
          "output_type": "stream",
          "name": "stderr",
          "text": [
            "\rTraining:  40%|████      | 48/120 [01:06<01:39,  1.38s/Epochs]"
          ]
        },
        {
          "output_type": "stream",
          "name": "stdout",
          "text": [
            "Epoch 48: Training Loss 1.33968, Training R2 0.37819 Validation Loss 1.72229 Validation R2 0.14703\n"
          ]
        },
        {
          "output_type": "stream",
          "name": "stderr",
          "text": [
            "\rTraining:  41%|████      | 49/120 [01:07<01:34,  1.33s/Epochs]"
          ]
        },
        {
          "output_type": "stream",
          "name": "stdout",
          "text": [
            "Epoch 49: Training Loss 1.33914, Training R2 0.37794 Validation Loss 1.67889 Validation R2 0.18194\n"
          ]
        },
        {
          "output_type": "stream",
          "name": "stderr",
          "text": [
            "\rTraining:  42%|████▏     | 50/120 [01:08<01:31,  1.30s/Epochs]"
          ]
        },
        {
          "output_type": "stream",
          "name": "stdout",
          "text": [
            "Epoch 50: Training Loss 1.33909, Training R2 0.37796 Validation Loss 1.65098 Validation R2 0.20439\n",
            "Epoch 51: Training Loss 1.33815, Training R2 0.38031 Validation Loss 1.63118 Validation R2 0.21941\n"
          ]
        },
        {
          "output_type": "stream",
          "name": "stderr",
          "text": [
            "Training:  43%|████▎     | 52/120 [01:11<01:37,  1.43s/Epochs]"
          ]
        },
        {
          "output_type": "stream",
          "name": "stdout",
          "text": [
            "Epoch 52: Training Loss 1.33808, Training R2 0.38138 Validation Loss 1.60627 Validation R2 0.2346\n"
          ]
        },
        {
          "output_type": "stream",
          "name": "stderr",
          "text": [
            "\rTraining:  44%|████▍     | 53/120 [01:12<01:31,  1.36s/Epochs]"
          ]
        },
        {
          "output_type": "stream",
          "name": "stdout",
          "text": [
            "Epoch 53: Training Loss 1.33871, Training R2 0.38106 Validation Loss 1.56938 Validation R2 0.25392\n",
            "Epoch 54: Training Loss 1.33667, Training R2 0.38009 Validation Loss 1.52722 Validation R2 0.27451\n"
          ]
        },
        {
          "output_type": "stream",
          "name": "stderr",
          "text": [
            "Training:  46%|████▌     | 55/120 [01:15<01:34,  1.45s/Epochs]"
          ]
        },
        {
          "output_type": "stream",
          "name": "stdout",
          "text": [
            "Epoch 55: Training Loss 1.33646, Training R2 0.37857 Validation Loss 1.49395 Validation R2 0.29063\n",
            "Epoch 56: Training Loss 1.33714, Training R2 0.37657 Validation Loss 1.47402 Validation R2 0.3012\n"
          ]
        },
        {
          "output_type": "stream",
          "name": "stderr",
          "text": [
            "Training:  48%|████▊     | 57/120 [01:19<01:36,  1.54s/Epochs]"
          ]
        },
        {
          "output_type": "stream",
          "name": "stdout",
          "text": [
            "Epoch 57: Training Loss 1.3368, Training R2 0.37623 Validation Loss 1.46262 Validation R2 0.30859\n"
          ]
        },
        {
          "output_type": "stream",
          "name": "stderr",
          "text": [
            "\rTraining:  48%|████▊     | 58/120 [01:20<01:29,  1.45s/Epochs]"
          ]
        },
        {
          "output_type": "stream",
          "name": "stdout",
          "text": [
            "Epoch 58: Training Loss 1.33615, Training R2 0.37773 Validation Loss 1.45021 Validation R2 0.31682\n"
          ]
        },
        {
          "output_type": "stream",
          "name": "stderr",
          "text": [
            "\rTraining:  49%|████▉     | 59/120 [01:21<01:23,  1.37s/Epochs]"
          ]
        },
        {
          "output_type": "stream",
          "name": "stdout",
          "text": [
            "Epoch 59: Training Loss 1.33672, Training R2 0.3783 Validation Loss 1.43247 Validation R2 0.3273\n"
          ]
        },
        {
          "output_type": "stream",
          "name": "stderr",
          "text": [
            "\rTraining:  50%|█████     | 60/120 [01:22<01:20,  1.34s/Epochs]"
          ]
        },
        {
          "output_type": "stream",
          "name": "stdout",
          "text": [
            "Epoch 60: Training Loss 1.33511, Training R2 0.37892 Validation Loss 1.41348 Validation R2 0.33803\n"
          ]
        },
        {
          "output_type": "stream",
          "name": "stderr",
          "text": [
            "\rTraining:  51%|█████     | 61/120 [01:24<01:17,  1.31s/Epochs]"
          ]
        },
        {
          "output_type": "stream",
          "name": "stdout",
          "text": [
            "Epoch 61: Training Loss 1.33474, Training R2 0.37922 Validation Loss 1.39894 Validation R2 0.34646\n"
          ]
        },
        {
          "output_type": "stream",
          "name": "stderr",
          "text": [
            "\rTraining:  52%|█████▏    | 62/120 [01:25<01:14,  1.29s/Epochs]"
          ]
        },
        {
          "output_type": "stream",
          "name": "stdout",
          "text": [
            "Epoch 62: Training Loss 1.33574, Training R2 0.37846 Validation Loss 1.3907 Validation R2 0.35192\n"
          ]
        },
        {
          "output_type": "stream",
          "name": "stderr",
          "text": [
            "\rTraining:  52%|█████▎    | 63/120 [01:26<01:11,  1.26s/Epochs]"
          ]
        },
        {
          "output_type": "stream",
          "name": "stdout",
          "text": [
            "Epoch 63: Training Loss 1.33436, Training R2 0.3802 Validation Loss 1.3848 Validation R2 0.35564\n"
          ]
        },
        {
          "output_type": "stream",
          "name": "stderr",
          "text": [
            "\rTraining:  53%|█████▎    | 64/120 [01:27<01:10,  1.26s/Epochs]"
          ]
        },
        {
          "output_type": "stream",
          "name": "stdout",
          "text": [
            "Epoch 64: Training Loss 1.33469, Training R2 0.38084 Validation Loss 1.37742 Validation R2 0.35894\n"
          ]
        },
        {
          "output_type": "stream",
          "name": "stderr",
          "text": [
            "\rTraining:  54%|█████▍    | 65/120 [01:29<01:10,  1.28s/Epochs]"
          ]
        },
        {
          "output_type": "stream",
          "name": "stdout",
          "text": [
            "Epoch 65: Training Loss 1.33499, Training R2 0.38018 Validation Loss 1.36782 Validation R2 0.36243\n"
          ]
        },
        {
          "output_type": "stream",
          "name": "stderr",
          "text": [
            "\rTraining:  55%|█████▌    | 66/120 [01:30<01:16,  1.41s/Epochs]"
          ]
        },
        {
          "output_type": "stream",
          "name": "stdout",
          "text": [
            "Epoch 66: Training Loss 1.33435, Training R2 0.37968 Validation Loss 1.35864 Validation R2 0.3656\n"
          ]
        },
        {
          "output_type": "stream",
          "name": "stderr",
          "text": [
            "\rTraining:  56%|█████▌    | 67/120 [01:32<01:19,  1.51s/Epochs]"
          ]
        },
        {
          "output_type": "stream",
          "name": "stdout",
          "text": [
            "Epoch 67: Training Loss 1.3339, Training R2 0.37844 Validation Loss 1.35226 Validation R2 0.36836\n"
          ]
        },
        {
          "output_type": "stream",
          "name": "stderr",
          "text": [
            "\rTraining:  57%|█████▋    | 68/120 [01:34<01:15,  1.46s/Epochs]"
          ]
        },
        {
          "output_type": "stream",
          "name": "stdout",
          "text": [
            "Epoch 68: Training Loss 1.33374, Training R2 0.37824 Validation Loss 1.34844 Validation R2 0.37107\n"
          ]
        },
        {
          "output_type": "stream",
          "name": "stderr",
          "text": [
            "\rTraining:  57%|█████▊    | 69/120 [01:35<01:10,  1.38s/Epochs]"
          ]
        },
        {
          "output_type": "stream",
          "name": "stdout",
          "text": [
            "Epoch 69: Training Loss 1.33325, Training R2 0.37909 Validation Loss 1.34589 Validation R2 0.37374\n"
          ]
        },
        {
          "output_type": "stream",
          "name": "stderr",
          "text": [
            "\rTraining:  58%|█████▊    | 70/120 [01:36<01:06,  1.34s/Epochs]"
          ]
        },
        {
          "output_type": "stream",
          "name": "stdout",
          "text": [
            "Epoch 70: Training Loss 1.33329, Training R2 0.37985 Validation Loss 1.34355 Validation R2 0.37593\n"
          ]
        },
        {
          "output_type": "stream",
          "name": "stderr",
          "text": [
            "\rTraining:  59%|█████▉    | 71/120 [01:37<01:04,  1.31s/Epochs]"
          ]
        },
        {
          "output_type": "stream",
          "name": "stdout",
          "text": [
            "Epoch 71: Training Loss 1.33218, Training R2 0.38138 Validation Loss 1.34129 Validation R2 0.37744\n"
          ]
        },
        {
          "output_type": "stream",
          "name": "stderr",
          "text": [
            "\rTraining:  60%|██████    | 72/120 [01:38<01:01,  1.29s/Epochs]"
          ]
        },
        {
          "output_type": "stream",
          "name": "stdout",
          "text": [
            "Epoch 72: Training Loss 1.33252, Training R2 0.38111 Validation Loss 1.33928 Validation R2 0.3782\n"
          ]
        },
        {
          "output_type": "stream",
          "name": "stderr",
          "text": [
            "\rTraining:  61%|██████    | 73/120 [01:40<00:59,  1.27s/Epochs]"
          ]
        },
        {
          "output_type": "stream",
          "name": "stdout",
          "text": [
            "Epoch 73: Training Loss 1.33208, Training R2 0.38141 Validation Loss 1.33751 Validation R2 0.37881\n"
          ]
        },
        {
          "output_type": "stream",
          "name": "stderr",
          "text": [
            "\rTraining:  62%|██████▏   | 74/120 [01:41<00:58,  1.26s/Epochs]"
          ]
        },
        {
          "output_type": "stream",
          "name": "stdout",
          "text": [
            "Epoch 74: Training Loss 1.33259, Training R2 0.38073 Validation Loss 1.33567 Validation R2 0.37939\n"
          ]
        },
        {
          "output_type": "stream",
          "name": "stderr",
          "text": [
            "\rTraining:  62%|██████▎   | 75/120 [01:42<00:55,  1.24s/Epochs]"
          ]
        },
        {
          "output_type": "stream",
          "name": "stdout",
          "text": [
            "Epoch 75: Training Loss 1.33152, Training R2 0.38164 Validation Loss 1.33405 Validation R2 0.37958\n"
          ]
        },
        {
          "output_type": "stream",
          "name": "stderr",
          "text": [
            "\rTraining:  63%|██████▎   | 76/120 [01:44<00:59,  1.35s/Epochs]"
          ]
        },
        {
          "output_type": "stream",
          "name": "stdout",
          "text": [
            "Epoch 76: Training Loss 1.3311, Training R2 0.38146 Validation Loss 1.3331 Validation R2 0.37901\n"
          ]
        },
        {
          "output_type": "stream",
          "name": "stderr",
          "text": [
            "\rTraining:  64%|██████▍   | 77/120 [01:45<01:02,  1.46s/Epochs]"
          ]
        },
        {
          "output_type": "stream",
          "name": "stdout",
          "text": [
            "Epoch 77: Training Loss 1.33179, Training R2 0.38034 Validation Loss 1.33288 Validation R2 0.37811\n"
          ]
        },
        {
          "output_type": "stream",
          "name": "stderr",
          "text": [
            "\rTraining:  65%|██████▌   | 78/120 [01:47<01:05,  1.57s/Epochs]"
          ]
        },
        {
          "output_type": "stream",
          "name": "stdout",
          "text": [
            "Epoch 78: Training Loss 1.3315, Training R2 0.38063 Validation Loss 1.3329 Validation R2 0.37782\n"
          ]
        },
        {
          "output_type": "stream",
          "name": "stderr",
          "text": [
            "\rTraining:  66%|██████▌   | 79/120 [01:48<01:00,  1.47s/Epochs]"
          ]
        },
        {
          "output_type": "stream",
          "name": "stdout",
          "text": [
            "Epoch 79: Training Loss 1.33127, Training R2 0.38002 Validation Loss 1.33289 Validation R2 0.37823\n"
          ]
        },
        {
          "output_type": "stream",
          "name": "stderr",
          "text": [
            "\rTraining:  67%|██████▋   | 80/120 [01:50<00:56,  1.40s/Epochs]"
          ]
        },
        {
          "output_type": "stream",
          "name": "stdout",
          "text": [
            "Epoch 80: Training Loss 1.3305, Training R2 0.38062 Validation Loss 1.3332 Validation R2 0.37861\n"
          ]
        },
        {
          "output_type": "stream",
          "name": "stderr",
          "text": [
            "\rTraining:  68%|██████▊   | 81/120 [01:51<00:52,  1.34s/Epochs]"
          ]
        },
        {
          "output_type": "stream",
          "name": "stdout",
          "text": [
            "Epoch 81: Training Loss 1.33076, Training R2 0.38109 Validation Loss 1.33375 Validation R2 0.3786\n"
          ]
        },
        {
          "output_type": "stream",
          "name": "stderr",
          "text": [
            "\rTraining:  68%|██████▊   | 82/120 [01:52<00:49,  1.31s/Epochs]"
          ]
        },
        {
          "output_type": "stream",
          "name": "stdout",
          "text": [
            "Epoch 82: Training Loss 1.33115, Training R2 0.38082 Validation Loss 1.33436 Validation R2 0.37816\n"
          ]
        },
        {
          "output_type": "stream",
          "name": "stderr",
          "text": [
            "\rTraining:  69%|██████▉   | 83/120 [01:53<00:46,  1.27s/Epochs]"
          ]
        },
        {
          "output_type": "stream",
          "name": "stdout",
          "text": [
            "Epoch 83: Training Loss 1.33075, Training R2 0.38113 Validation Loss 1.33436 Validation R2 0.37808\n"
          ]
        },
        {
          "output_type": "stream",
          "name": "stderr",
          "text": [
            "\rTraining:  70%|███████   | 84/120 [01:55<00:45,  1.26s/Epochs]"
          ]
        },
        {
          "output_type": "stream",
          "name": "stdout",
          "text": [
            "Epoch 84: Training Loss 1.32925, Training R2 0.38173 Validation Loss 1.33375 Validation R2 0.37826\n"
          ]
        },
        {
          "output_type": "stream",
          "name": "stderr",
          "text": [
            "\rTraining:  71%|███████   | 85/120 [01:56<00:43,  1.25s/Epochs]"
          ]
        },
        {
          "output_type": "stream",
          "name": "stdout",
          "text": [
            "Epoch 85: Training Loss 1.32988, Training R2 0.38124 Validation Loss 1.33287 Validation R2 0.37845\n"
          ]
        },
        {
          "output_type": "stream",
          "name": "stderr",
          "text": [
            "\rTraining:  72%|███████▏  | 86/120 [01:57<00:42,  1.25s/Epochs]"
          ]
        },
        {
          "output_type": "stream",
          "name": "stdout",
          "text": [
            "Epoch 86: Training Loss 1.33009, Training R2 0.38121 Validation Loss 1.33225 Validation R2 0.37838\n"
          ]
        },
        {
          "output_type": "stream",
          "name": "stderr",
          "text": [
            "\rTraining:  72%|███████▎  | 87/120 [01:59<00:44,  1.35s/Epochs]"
          ]
        },
        {
          "output_type": "stream",
          "name": "stdout",
          "text": [
            "Epoch 87: Training Loss 1.32948, Training R2 0.38143 Validation Loss 1.33205 Validation R2 0.37801\n",
            "Epoch 88: Training Loss 1.32939, Training R2 0.38109 Validation Loss 1.33224 Validation R2 0.37762\n"
          ]
        },
        {
          "output_type": "stream",
          "name": "stderr",
          "text": [
            "Training:  74%|███████▍  | 89/120 [02:02<00:48,  1.55s/Epochs]"
          ]
        },
        {
          "output_type": "stream",
          "name": "stdout",
          "text": [
            "Epoch 89: Training Loss 1.32959, Training R2 0.38063 Validation Loss 1.33181 Validation R2 0.37832\n"
          ]
        },
        {
          "output_type": "stream",
          "name": "stderr",
          "text": [
            "\rTraining:  75%|███████▌  | 90/120 [02:03<00:43,  1.46s/Epochs]"
          ]
        },
        {
          "output_type": "stream",
          "name": "stdout",
          "text": [
            "Epoch 90: Training Loss 1.32824, Training R2 0.38144 Validation Loss 1.33117 Validation R2 0.37935\n"
          ]
        },
        {
          "output_type": "stream",
          "name": "stderr",
          "text": [
            "\rTraining:  76%|███████▌  | 91/120 [02:05<00:40,  1.38s/Epochs]"
          ]
        },
        {
          "output_type": "stream",
          "name": "stdout",
          "text": [
            "Epoch 91: Training Loss 1.32788, Training R2 0.38212 Validation Loss 1.33135 Validation R2 0.37939\n"
          ]
        },
        {
          "output_type": "stream",
          "name": "stderr",
          "text": [
            "\rTraining:  77%|███████▋  | 92/120 [02:06<00:37,  1.34s/Epochs]"
          ]
        },
        {
          "output_type": "stream",
          "name": "stdout",
          "text": [
            "Epoch 92: Training Loss 1.32805, Training R2 0.38228 Validation Loss 1.33251 Validation R2 0.37822\n"
          ]
        },
        {
          "output_type": "stream",
          "name": "stderr",
          "text": [
            "\rTraining:  78%|███████▊  | 93/120 [02:07<00:35,  1.30s/Epochs]"
          ]
        },
        {
          "output_type": "stream",
          "name": "stdout",
          "text": [
            "Epoch 93: Training Loss 1.32823, Training R2 0.38191 Validation Loss 1.33276 Validation R2 0.37789\n"
          ]
        },
        {
          "output_type": "stream",
          "name": "stderr",
          "text": [
            "\rTraining:  78%|███████▊  | 94/120 [02:08<00:33,  1.29s/Epochs]"
          ]
        },
        {
          "output_type": "stream",
          "name": "stdout",
          "text": [
            "Epoch 94: Training Loss 1.32696, Training R2 0.38228 Validation Loss 1.33174 Validation R2 0.37874\n"
          ]
        },
        {
          "output_type": "stream",
          "name": "stderr",
          "text": [
            "\rTraining:  79%|███████▉  | 95/120 [02:10<00:31,  1.27s/Epochs]"
          ]
        },
        {
          "output_type": "stream",
          "name": "stdout",
          "text": [
            "Epoch 95: Training Loss 1.32771, Training R2 0.38188 Validation Loss 1.33108 Validation R2 0.37917\n"
          ]
        },
        {
          "output_type": "stream",
          "name": "stderr",
          "text": [
            "\rTraining:  80%|████████  | 96/120 [02:11<00:30,  1.27s/Epochs]"
          ]
        },
        {
          "output_type": "stream",
          "name": "stdout",
          "text": [
            "Epoch 96: Training Loss 1.3275, Training R2 0.38219 Validation Loss 1.33146 Validation R2 0.3784\n"
          ]
        },
        {
          "output_type": "stream",
          "name": "stderr",
          "text": [
            "\rTraining:  81%|████████  | 97/120 [02:12<00:28,  1.25s/Epochs]"
          ]
        },
        {
          "output_type": "stream",
          "name": "stdout",
          "text": [
            "Epoch 97: Training Loss 1.32699, Training R2 0.38201 Validation Loss 1.33233 Validation R2 0.37727\n"
          ]
        },
        {
          "output_type": "stream",
          "name": "stderr",
          "text": [
            "\rTraining:  82%|████████▏ | 98/120 [02:14<00:30,  1.38s/Epochs]"
          ]
        },
        {
          "output_type": "stream",
          "name": "stdout",
          "text": [
            "Epoch 98: Training Loss 1.32697, Training R2 0.38157 Validation Loss 1.33152 Validation R2 0.37813\n"
          ]
        },
        {
          "output_type": "stream",
          "name": "stderr",
          "text": [
            "\rTraining:  82%|████████▎ | 99/120 [02:15<00:30,  1.47s/Epochs]"
          ]
        },
        {
          "output_type": "stream",
          "name": "stdout",
          "text": [
            "Epoch 99: Training Loss 1.32656, Training R2 0.38212 Validation Loss 1.33031 Validation R2 0.37944\n"
          ]
        },
        {
          "output_type": "stream",
          "name": "stderr",
          "text": [
            "\rTraining:  83%|████████▎ | 100/120 [02:17<00:31,  1.55s/Epochs]"
          ]
        },
        {
          "output_type": "stream",
          "name": "stdout",
          "text": [
            "Epoch 100: Training Loss 1.32581, Training R2 0.38318 Validation Loss 1.33074 Validation R2 0.37889\n"
          ]
        },
        {
          "output_type": "stream",
          "name": "stderr",
          "text": [
            "\rTraining:  84%|████████▍ | 101/120 [02:18<00:27,  1.44s/Epochs]"
          ]
        },
        {
          "output_type": "stream",
          "name": "stdout",
          "text": [
            "Epoch 101: Training Loss 1.32647, Training R2 0.3825 Validation Loss 1.33174 Validation R2 0.37766\n"
          ]
        },
        {
          "output_type": "stream",
          "name": "stderr",
          "text": [
            "\rTraining:  85%|████████▌ | 102/120 [02:20<00:24,  1.38s/Epochs]"
          ]
        },
        {
          "output_type": "stream",
          "name": "stdout",
          "text": [
            "Epoch 102: Training Loss 1.32615, Training R2 0.38214 Validation Loss 1.3313 Validation R2 0.37785\n"
          ]
        },
        {
          "output_type": "stream",
          "name": "stderr",
          "text": [
            "\rTraining:  86%|████████▌ | 103/120 [02:21<00:22,  1.33s/Epochs]"
          ]
        },
        {
          "output_type": "stream",
          "name": "stdout",
          "text": [
            "Epoch 103: Training Loss 1.3257, Training R2 0.3824 Validation Loss 1.33028 Validation R2 0.37863\n"
          ]
        },
        {
          "output_type": "stream",
          "name": "stderr",
          "text": [
            "\rTraining:  87%|████████▋ | 104/120 [02:22<00:21,  1.32s/Epochs]"
          ]
        },
        {
          "output_type": "stream",
          "name": "stdout",
          "text": [
            "Epoch 104: Training Loss 1.32565, Training R2 0.38263 Validation Loss 1.33047 Validation R2 0.37815\n"
          ]
        },
        {
          "output_type": "stream",
          "name": "stderr",
          "text": [
            "\rTraining:  88%|████████▊ | 105/120 [02:23<00:19,  1.29s/Epochs]"
          ]
        },
        {
          "output_type": "stream",
          "name": "stdout",
          "text": [
            "Epoch 105: Training Loss 1.32557, Training R2 0.38243 Validation Loss 1.33143 Validation R2 0.37686\n"
          ]
        },
        {
          "output_type": "stream",
          "name": "stderr",
          "text": [
            "\rTraining:  88%|████████▊ | 106/120 [02:24<00:17,  1.28s/Epochs]"
          ]
        },
        {
          "output_type": "stream",
          "name": "stdout",
          "text": [
            "Epoch 106: Training Loss 1.32563, Training R2 0.38164 Validation Loss 1.33144 Validation R2 0.37683\n"
          ]
        },
        {
          "output_type": "stream",
          "name": "stderr",
          "text": [
            "\rTraining:  89%|████████▉ | 107/120 [02:26<00:16,  1.25s/Epochs]"
          ]
        },
        {
          "output_type": "stream",
          "name": "stdout",
          "text": [
            "Epoch 107: Training Loss 1.32497, Training R2 0.38219 Validation Loss 1.33075 Validation R2 0.37762\n"
          ]
        },
        {
          "output_type": "stream",
          "name": "stderr",
          "text": [
            "\rTraining:  90%|█████████ | 108/120 [02:27<00:15,  1.25s/Epochs]"
          ]
        },
        {
          "output_type": "stream",
          "name": "stdout",
          "text": [
            "Epoch 108: Training Loss 1.32517, Training R2 0.38227 Validation Loss 1.33111 Validation R2 0.37719\n"
          ]
        },
        {
          "output_type": "stream",
          "name": "stderr",
          "text": [
            "\rTraining:  91%|█████████ | 109/120 [02:29<00:15,  1.37s/Epochs]"
          ]
        },
        {
          "output_type": "stream",
          "name": "stdout",
          "text": [
            "Epoch 109: Training Loss 1.32593, Training R2 0.38188 Validation Loss 1.33125 Validation R2 0.37697\n",
            "Epoch 110: Training Loss 1.32551, Training R2 0.38159 Validation Loss 1.33099 Validation R2 0.37716\n"
          ]
        },
        {
          "output_type": "stream",
          "name": "stderr",
          "text": [
            "Training:  92%|█████████▎| 111/120 [02:32<00:13,  1.51s/Epochs]"
          ]
        },
        {
          "output_type": "stream",
          "name": "stdout",
          "text": [
            "Epoch 111: Training Loss 1.32468, Training R2 0.38213 Validation Loss 1.33104 Validation R2 0.377\n"
          ]
        },
        {
          "output_type": "stream",
          "name": "stderr",
          "text": [
            "\rTraining:  93%|█████████▎| 112/120 [02:33<00:11,  1.43s/Epochs]"
          ]
        },
        {
          "output_type": "stream",
          "name": "stdout",
          "text": [
            "Epoch 112: Training Loss 1.32529, Training R2 0.38194 Validation Loss 1.33079 Validation R2 0.377\n"
          ]
        },
        {
          "output_type": "stream",
          "name": "stderr",
          "text": [
            "\rTraining:  94%|█████████▍| 113/120 [02:34<00:09,  1.35s/Epochs]"
          ]
        },
        {
          "output_type": "stream",
          "name": "stdout",
          "text": [
            "Epoch 113: Training Loss 1.32497, Training R2 0.38206 Validation Loss 1.33061 Validation R2 0.37691\n"
          ]
        },
        {
          "output_type": "stream",
          "name": "stderr",
          "text": [
            "\rTraining:  95%|█████████▌| 114/120 [02:36<00:07,  1.31s/Epochs]"
          ]
        },
        {
          "output_type": "stream",
          "name": "stdout",
          "text": [
            "Epoch 114: Training Loss 1.32524, Training R2 0.38156 Validation Loss 1.33043 Validation R2 0.37673\n"
          ]
        },
        {
          "output_type": "stream",
          "name": "stderr",
          "text": [
            "\rTraining:  96%|█████████▌| 115/120 [02:37<00:06,  1.29s/Epochs]"
          ]
        },
        {
          "output_type": "stream",
          "name": "stdout",
          "text": [
            "Epoch 115: Training Loss 1.32415, Training R2 0.38209 Validation Loss 1.33075 Validation R2 0.37611\n"
          ]
        },
        {
          "output_type": "stream",
          "name": "stderr",
          "text": [
            "\rTraining:  97%|█████████▋| 116/120 [02:38<00:05,  1.28s/Epochs]"
          ]
        },
        {
          "output_type": "stream",
          "name": "stdout",
          "text": [
            "Epoch 116: Training Loss 1.32388, Training R2 0.38184 Validation Loss 1.33082 Validation R2 0.3759\n"
          ]
        },
        {
          "output_type": "stream",
          "name": "stderr",
          "text": [
            "\rTraining:  98%|█████████▊| 117/120 [02:39<00:03,  1.26s/Epochs]"
          ]
        },
        {
          "output_type": "stream",
          "name": "stdout",
          "text": [
            "Epoch 117: Training Loss 1.32389, Training R2 0.38164 Validation Loss 1.33034 Validation R2 0.37644\n"
          ]
        },
        {
          "output_type": "stream",
          "name": "stderr",
          "text": [
            "\rTraining:  98%|█████████▊| 118/120 [02:41<00:02,  1.27s/Epochs]"
          ]
        },
        {
          "output_type": "stream",
          "name": "stdout",
          "text": [
            "Epoch 118: Training Loss 1.32354, Training R2 0.38197 Validation Loss 1.3309 Validation R2 0.37577\n"
          ]
        },
        {
          "output_type": "stream",
          "name": "stderr",
          "text": [
            "\rTraining:  99%|█████████▉| 119/120 [02:42<00:01,  1.29s/Epochs]"
          ]
        },
        {
          "output_type": "stream",
          "name": "stdout",
          "text": [
            "Epoch 119: Training Loss 1.32304, Training R2 0.38177 Validation Loss 1.33083 Validation R2 0.37567\n"
          ]
        },
        {
          "output_type": "stream",
          "name": "stderr",
          "text": [
            "\rTraining: 100%|██████████| 120/120 [02:44<00:00,  1.43s/Epochs]"
          ]
        },
        {
          "output_type": "stream",
          "name": "stdout",
          "text": [
            "Epoch 120: Training Loss 1.32323, Training R2 0.38234 Validation Loss 1.33032 Validation R2 0.37596\n"
          ]
        },
        {
          "output_type": "stream",
          "name": "stderr",
          "text": [
            "\rTraining: 100%|██████████| 120/120 [02:44<00:00,  1.37s/Epochs]\n"
          ]
        },
        {
          "output_type": "stream",
          "name": "stdout",
          "text": [
            "Saving Model Predictions for Model Type GraphSage\n",
            "Minimum validation loss: 1.3302770853042603\n",
            "Minimum test loss: 1.3257473707199097\n",
            "Minimum test R2: 0.38216400146484375\n"
          ]
        },
        {
          "output_type": "display_data",
          "data": {
            "text/plain": [
              "<Figure size 640x480 with 1 Axes>"
            ],
            "image/png": "[encoded data removed]"
          },
          "metadata": {}
        }
      ]
    },
    {
      "cell_type": "code",
      "source": [
        "outcome = torch.cat([test_data.pos_edge_label, test_data.neg_edge_label]).cpu().detach().numpy()\n",
        "mean_pred = outcome.mean()"
      ],
      "metadata": {
        "id": "LVopQ76V9ni0"
      },
      "execution_count": 23,
      "outputs": []
    },
    {
      "cell_type": "code",
      "source": [
        "outcome.shape"
      ],
      "metadata": {
        "colab": {
          "base_uri": "https://localhost:8080/"
        },
        "id": "5xaZnqvsCuD6",
        "outputId": "11405499-99cc-449a-cbed-c9ad7f03dc85"
      },
      "execution_count": 24,
      "outputs": [
        {
          "output_type": "execute_result",
          "data": {
            "text/plain": [
              "(32269,)"
            ]
          },
          "metadata": {},
          "execution_count": 24
        }
      ]
    },
    {
      "cell_type": "code",
      "source": [
        "pred_tensor = torch.tensor(np.array([mean_pred] * 32269), dtype=torch.float32)\n",
        "outcome_tensor = torch.tensor(outcome, dtype=torch.float32)\n",
        "\n",
        "# Calculate R2 score\n",
        "r2 = r2_score(pred_tensor, outcome_tensor)\n",
        "print(r2)"
      ],
      "metadata": {
        "id": "NgKNmXav-bdP",
        "colab": {
          "base_uri": "https://localhost:8080/"
        },
        "outputId": "4c62a6f3-2258-4dc0-8636-b5059cd77f57"
      },
      "execution_count": 26,
      "outputs": [
        {
          "output_type": "stream",
          "name": "stdout",
          "text": [
            "tensor(0.)\n"
          ]
        }
      ]
    }
  ]
}