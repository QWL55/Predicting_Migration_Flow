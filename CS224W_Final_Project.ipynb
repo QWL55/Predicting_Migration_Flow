{
  "nbformat": 4,
  "nbformat_minor": 0,
  "metadata": {
    "kernelspec": {
      "display_name": "Python 3",
      "name": "python3"
    },
    "language_info": {
      "codemirror_mode": {
        "name": "ipython",
        "version": 3
      },
      "file_extension": ".py",
      "mimetype": "text/x-python",
      "name": "python",
      "nbconvert_exporter": "python",
      "pygments_lexer": "ipython3",
      "version": "3.7.3"
    },
    "colab": {
      "provenance": [],
      "gpuType": "T4",
      "include_colab_link": true
    },
    "accelerator": "GPU"
  },
  "cells": [
    {
      "cell_type": "markdown",
      "metadata": {
        "id": "view-in-github",
        "colab_type": "text"
      },
      "source": [
        "<a href=\"https://colab.research.google.com/github/QWL55/Predicting_Migration_Flow/blob/main/CS224W_Final_Project.ipynb\" target=\"_parent\"><img src=\"https://colab.research.google.com/assets/colab-badge.svg\" alt=\"Open In Colab\"/></a>"
      ]
    },
    {
      "cell_type": "markdown",
      "metadata": {
        "id": "XuXWJLEm2UWS"
      },
      "source": [
        "# **CS224W - Final Project**"
      ]
    },
    {
      "cell_type": "markdown",
      "metadata": {
        "id": "8gzsP50bF6Gb"
      },
      "source": [
        "\n"
      ]
    },
    {
      "cell_type": "markdown",
      "metadata": {
        "id": "OCK7krJdp4o8"
      },
      "source": [
        "# Setup\n",
        "First let us check which version of PyTorch you are running"
      ]
    },
    {
      "cell_type": "code",
      "metadata": {
        "id": "2vkP8pA1qBE5",
        "colab": {
          "base_uri": "https://localhost:8080/"
        },
        "outputId": "221e552b-1b7f-4c7d-8eff-8a307cf9769a"
      },
      "source": [
        "# Install torch geometric\n",
        "import os\n",
        "import torch\n",
        "torch_version = str(torch.__version__)\n",
        "scatter_src = f\"https://pytorch-geometric.com/whl/torch-{torch_version}.html\"\n",
        "sparse_src = f\"https://pytorch-geometric.com/whl/torch-{torch_version}.html\"\n",
        "!pip install torch-scatter -f $scatter_src\n",
        "!pip install torch-sparse -f $sparse_src\n",
        "!pip install torch-geometric\n",
        "!pip install -q git+https://github.com/snap-stanford/deepsnap.git\n",
        "!pip install -U -q PyDrive"
      ],
      "execution_count": 1,
      "outputs": [
        {
          "output_type": "stream",
          "name": "stdout",
          "text": [
            "Looking in links: https://pytorch-geometric.com/whl/torch-2.5.1+cu121.html\n",
            "Requirement already satisfied: torch-scatter in /usr/local/lib/python3.10/dist-packages (2.1.2+pt25cu121)\n",
            "Looking in links: https://pytorch-geometric.com/whl/torch-2.5.1+cu121.html\n",
            "Requirement already satisfied: torch-sparse in /usr/local/lib/python3.10/dist-packages (0.6.18+pt25cu121)\n",
            "Requirement already satisfied: scipy in /usr/local/lib/python3.10/dist-packages (from torch-sparse) (1.13.1)\n",
            "Requirement already satisfied: numpy<2.3,>=1.22.4 in /usr/local/lib/python3.10/dist-packages (from scipy->torch-sparse) (1.26.4)\n",
            "Requirement already satisfied: torch-geometric in /usr/local/lib/python3.10/dist-packages (2.6.1)\n",
            "Requirement already satisfied: aiohttp in /usr/local/lib/python3.10/dist-packages (from torch-geometric) (3.11.9)\n",
            "Requirement already satisfied: fsspec in /usr/local/lib/python3.10/dist-packages (from torch-geometric) (2024.10.0)\n",
            "Requirement already satisfied: jinja2 in /usr/local/lib/python3.10/dist-packages (from torch-geometric) (3.1.4)\n",
            "Requirement already satisfied: numpy in /usr/local/lib/python3.10/dist-packages (from torch-geometric) (1.26.4)\n",
            "Requirement already satisfied: psutil>=5.8.0 in /usr/local/lib/python3.10/dist-packages (from torch-geometric) (5.9.5)\n",
            "Requirement already satisfied: pyparsing in /usr/local/lib/python3.10/dist-packages (from torch-geometric) (3.2.0)\n",
            "Requirement already satisfied: requests in /usr/local/lib/python3.10/dist-packages (from torch-geometric) (2.32.3)\n",
            "Requirement already satisfied: tqdm in /usr/local/lib/python3.10/dist-packages (from torch-geometric) (4.66.6)\n",
            "Requirement already satisfied: aiohappyeyeballs>=2.3.0 in /usr/local/lib/python3.10/dist-packages (from aiohttp->torch-geometric) (2.4.4)\n",
            "Requirement already satisfied: aiosignal>=1.1.2 in /usr/local/lib/python3.10/dist-packages (from aiohttp->torch-geometric) (1.3.1)\n",
            "Requirement already satisfied: async-timeout<6.0,>=4.0 in /usr/local/lib/python3.10/dist-packages (from aiohttp->torch-geometric) (4.0.3)\n",
            "Requirement already satisfied: attrs>=17.3.0 in /usr/local/lib/python3.10/dist-packages (from aiohttp->torch-geometric) (24.2.0)\n",
            "Requirement already satisfied: frozenlist>=1.1.1 in /usr/local/lib/python3.10/dist-packages (from aiohttp->torch-geometric) (1.5.0)\n",
            "Requirement already satisfied: multidict<7.0,>=4.5 in /usr/local/lib/python3.10/dist-packages (from aiohttp->torch-geometric) (6.1.0)\n",
            "Requirement already satisfied: propcache>=0.2.0 in /usr/local/lib/python3.10/dist-packages (from aiohttp->torch-geometric) (0.2.1)\n",
            "Requirement already satisfied: yarl<2.0,>=1.17.0 in /usr/local/lib/python3.10/dist-packages (from aiohttp->torch-geometric) (1.18.3)\n",
            "Requirement already satisfied: MarkupSafe>=2.0 in /usr/local/lib/python3.10/dist-packages (from jinja2->torch-geometric) (3.0.2)\n",
            "Requirement already satisfied: charset-normalizer<4,>=2 in /usr/local/lib/python3.10/dist-packages (from requests->torch-geometric) (3.4.0)\n",
            "Requirement already satisfied: idna<4,>=2.5 in /usr/local/lib/python3.10/dist-packages (from requests->torch-geometric) (3.10)\n",
            "Requirement already satisfied: urllib3<3,>=1.21.1 in /usr/local/lib/python3.10/dist-packages (from requests->torch-geometric) (2.2.3)\n",
            "Requirement already satisfied: certifi>=2017.4.17 in /usr/local/lib/python3.10/dist-packages (from requests->torch-geometric) (2024.8.30)\n",
            "Requirement already satisfied: typing-extensions>=4.1.0 in /usr/local/lib/python3.10/dist-packages (from multidict<7.0,>=4.5->aiohttp->torch-geometric) (4.12.2)\n",
            "  Preparing metadata (setup.py) ... \u001b[?25l\u001b[?25hdone\n"
          ]
        }
      ]
    },
    {
      "cell_type": "markdown",
      "metadata": {
        "id": "9DP_yEQZ0NVW"
      },
      "source": [
        "# 1) GNN: Link Regression Task\n",
        "\n",
        "In this section we will build our baseline graph neural network using PyTorch Geometric. Then we will apply it to the task of predicting the volume of migration flow (link regression).\n",
        "\n",
        "Specifically, we will use GCN as the foundation for the graph neural network ([Kipf et al. (2017)](https://arxiv.org/pdf/1609.02907.pdf)). To do so, we will work with PyG's built-in `GCNConv` layer."
      ]
    },
    {
      "cell_type": "markdown",
      "metadata": {
        "id": "O4CcOUEoInjD"
      },
      "source": [
        "## Setup"
      ]
    },
    {
      "cell_type": "code",
      "source": [
        "import pandas as pd\n",
        "import numpy as np\n",
        "import copy\n",
        "import torch.nn.functional as F\n",
        "from sklearn.metrics import roc_auc_score\n",
        "# The PyG built-in GCNConv\n",
        "import torch_geometric\n",
        "from torch_geometric.nn import GCNConv\n",
        "from torch_geometric.utils import negative_sampling\n",
        "import torch_geometric.transforms as T"
      ],
      "metadata": {
        "id": "FT_w3_lVcxdS"
      },
      "execution_count": 2,
      "outputs": []
    },
    {
      "cell_type": "code",
      "source": [
        "from google.colab import drive\n",
        "drive.mount('/content/drive')"
      ],
      "metadata": {
        "colab": {
          "base_uri": "https://localhost:8080/"
        },
        "id": "L68uxydJVqUx",
        "outputId": "58e92d45-4859-4f25-8543-7dccc55638ff"
      },
      "execution_count": 3,
      "outputs": [
        {
          "output_type": "stream",
          "name": "stdout",
          "text": [
            "Drive already mounted at /content/drive; to attempt to forcibly remount, call drive.mount(\"/content/drive\", force_remount=True).\n"
          ]
        }
      ]
    },
    {
      "cell_type": "code",
      "source": [
        "# change the path to your project folder\n",
        "os.chdir('/content/drive/MyDrive/Stanford SOC/CS224W/final_projects')"
      ],
      "metadata": {
        "id": "l9GJF29jV75D"
      },
      "execution_count": 4,
      "outputs": []
    },
    {
      "cell_type": "code",
      "source": [
        "os.listdir()"
      ],
      "metadata": {
        "colab": {
          "base_uri": "https://localhost:8080/"
        },
        "id": "GoMTUJkjdXDz",
        "outputId": "516a4f97-ea58-4853-e450-3fdc2e56a804"
      },
      "execution_count": 5,
      "outputs": [
        {
          "output_type": "execute_result",
          "data": {
            "text/plain": [
              "['CS224W_Colab_2.ipynb',\n",
              " 'dataset',\n",
              " 'county_flow.csv',\n",
              " 'county_node_info.csv',\n",
              " 'CS224W_Final_Project.ipynb']"
            ]
          },
          "metadata": {},
          "execution_count": 5
        }
      ]
    },
    {
      "cell_type": "markdown",
      "metadata": {
        "id": "0IK9z0wQIwzQ"
      },
      "source": [
        "## Load and Preprocess the Dataset"
      ]
    },
    {
      "cell_type": "code",
      "source": [
        "from torch_geometric.data import Data\n",
        "\n",
        "def load_process_data(feat_type):\n",
        "    # Load the datasets\n",
        "    county_flow_df = pd.read_csv('county_flow.csv', dtype={\"fips_orig\": str, \"fips_dest\": str})\n",
        "    county_node_df = pd.read_csv('county_node_info.csv', dtype={\"GEOID\": str})\n",
        "\n",
        "    # Step 1: Create a mapping from GEOID to index and\n",
        "    # map fips_orig and fips_dest in county_flow_df to indices\n",
        "    geo_to_index = {geo_id: idx for idx, geo_id in enumerate(county_node_df['GEOID'])}\n",
        "\n",
        "    county_flow_df['src'] = county_flow_df['fips_orig'].map(geo_to_index)\n",
        "    county_flow_df['dst'] = county_flow_df['fips_dest'].map(geo_to_index)\n",
        "\n",
        "    # Drop any rows with missing mappings (i.e., if a fips code doesn't exist in county_node_df)\n",
        "    county_flow_df = county_flow_df.dropna(subset=['src', 'dst']).astype({'src': int, 'dst': int})\n",
        "\n",
        "    # Step 2: Extract the edge list and label\n",
        "    edge_index_df = county_flow_df[['src', 'dst']]\n",
        "    edge_index = torch.tensor(edge_index_df.values.T, dtype=torch.long)\n",
        "\n",
        "    edge_labels = county_flow_df['flow'].values\n",
        "    edge_labels = torch.tensor(edge_labels, dtype=torch.long)\n",
        "\n",
        "    # Step 3: Create two versions of county_node_features\n",
        "    if feat_type == 'full':\n",
        "        # includes all columns except GEOID\n",
        "        columns_to_drop = ['GEOID']\n",
        "    elif feat_type == 'simple':\n",
        "        # excludes columns with \"feature\" in their names\n",
        "        columns_to_drop = ['GEOID'] + [col for col in county_node_df.columns if 'feature' in col.lower()]\n",
        "    elif feat_type == 'pdfm':\n",
        "        # include only pdfm features\n",
        "        columns_to_drop = ['GEOID'] + [col for col in county_node_df.columns if 'feature' not in col.lower()]\n",
        "\n",
        "    # select relevant features\n",
        "    county_node_features = county_node_df.drop(columns=columns_to_drop, errors='ignore').values\n",
        "    county_node_features = torch.tensor(county_node_features, dtype=torch.float)\n",
        "\n",
        "    # Create PyG Data object\n",
        "    data = Data(x=county_node_features, edge_index=edge_index, y=edge_labels,\n",
        "                edge_label=edge_labels)\n",
        "    data.num_node_features = county_node_features.shape[1]\n",
        "    data.num_classes = 1\n",
        "\n",
        "    return data"
      ],
      "metadata": {
        "id": "NojfEz27VVQa"
      },
      "execution_count": 6,
      "outputs": []
    },
    {
      "cell_type": "code",
      "source": [
        "data_full = load_process_data('full')\n",
        "data_simple = load_process_data('simple')\n",
        "data_pdfm = load_process_data('pdfm')\n",
        "\n",
        "print(\"Data with full features:\")\n",
        "print(data_full)\n",
        "print(\"\\nData with simple features:\")\n",
        "print(data_simple)\n",
        "print(\"\\nData with pdfm features:\")\n",
        "print(data_pdfm)"
      ],
      "metadata": {
        "colab": {
          "base_uri": "https://localhost:8080/"
        },
        "id": "JC-KuR9_aDXT",
        "outputId": "6ea5ef0c-8c58-4f83-b3ce-5b41425b5ccd"
      },
      "execution_count": 61,
      "outputs": [
        {
          "output_type": "stream",
          "name": "stdout",
          "text": [
            "Data with full features:\n",
            "Data(x=[3116, 339], edge_index=[2, 107568], y=[107568], edge_label=[107568], num_node_features=339, num_classes=1)\n",
            "\n",
            "Data with simple features:\n",
            "Data(x=[3116, 9], edge_index=[2, 107568], y=[107568], edge_label=[107568], num_node_features=9, num_classes=1)\n",
            "\n",
            "Data with pdfm features:\n",
            "Data(x=[3116, 330], edge_index=[2, 107568], y=[107568], edge_label=[107568], num_node_features=330, num_classes=1)\n"
          ]
        }
      ]
    },
    {
      "cell_type": "code",
      "source": [
        "# Data splitting\n",
        "transform = T.Compose([T.ToSparseTensor(),\n",
        "                       T.RandomLinkSplit(is_undirected=False)])\n",
        "\n",
        "train_data, val_data, test_data = transform(data_full)\n",
        "train_data, val_data, test_data = transform(data_simple)\n",
        "print(train_data)"
      ],
      "metadata": {
        "colab": {
          "base_uri": "https://localhost:8080/"
        },
        "id": "kRUnj1OilrWv",
        "outputId": "b861d10c-7c7b-4dda-d177-2769f02133a4"
      },
      "execution_count": 8,
      "outputs": [
        {
          "output_type": "stream",
          "name": "stdout",
          "text": [
            "Data(x=[3116, 9], y=[75299], num_node_features=9, num_classes=1, adj_t=[3116, 3116, nnz=107568], edge_index=[2, 75299], edge_label=[150598], edge_label_index=[2, 150598])\n"
          ]
        }
      ]
    },
    {
      "cell_type": "code",
      "source": [
        "train_data.edge_label.shape\n",
        "val_data.edge_label.shape"
      ],
      "metadata": {
        "colab": {
          "base_uri": "https://localhost:8080/"
        },
        "id": "u_x39_DLo5lT",
        "outputId": "20667cf3-0fc3-4f34-acd7-8a6e333a3c4b"
      },
      "execution_count": 9,
      "outputs": [
        {
          "output_type": "execute_result",
          "data": {
            "text/plain": [
              "torch.Size([21512])"
            ]
          },
          "metadata": {},
          "execution_count": 9
        }
      ]
    },
    {
      "cell_type": "markdown",
      "source": [
        "# Model Building"
      ],
      "metadata": {
        "id": "NKr3msRGdgQG"
      }
    },
    {
      "cell_type": "code",
      "source": [
        "import torch\n",
        "import torch_scatter\n",
        "import torch.nn as nn\n",
        "import torch.nn.functional as F\n",
        "\n",
        "import torch_geometric.nn as pyg_nn\n",
        "import torch_geometric.utils as pyg_utils\n",
        "\n",
        "from torch import Tensor\n",
        "from typing import Union, Tuple, Optional\n",
        "from torch_geometric.typing import (OptPairTensor, Adj, Size, NoneType,\n",
        "                                    OptTensor)\n",
        "\n",
        "from torch.nn import Parameter, Linear\n",
        "from torch_sparse import SparseTensor, set_diag\n",
        "from torch_geometric.nn.conv import MessagePassing\n",
        "from torch_geometric.utils import remove_self_loops, add_self_loops, softmax\n",
        "\n",
        "class GNNStack(torch.nn.Module):\n",
        "    def __init__(self, input_dim, hidden_dim, output_dim, args, emb=False):\n",
        "        super(GNNStack, self).__init__()\n",
        "        conv_model = self.build_conv_model(args.model_type)\n",
        "        self.convs = nn.ModuleList()\n",
        "        self.bns = nn.ModuleList()\n",
        "        self.convs.append(conv_model(input_dim, hidden_dim))\n",
        "        assert (args.num_layers >= 1), 'Number of layers is not >=1'\n",
        "        for l in range(args.num_layers-1):\n",
        "            self.convs.append(conv_model(args.heads * hidden_dim, hidden_dim))\n",
        "\n",
        "        # post-message-passing\n",
        "        # times 2 because we concatenate node embedding\n",
        "        self.link_regressor = nn.Sequential(\n",
        "            nn.Linear(2 * args.heads *hidden_dim, hidden_dim),\n",
        "            nn.Dropout(args.dropout),\n",
        "            nn.Linear(hidden_dim, output_dim))\n",
        "\n",
        "        self.dropout = args.dropout\n",
        "\n",
        "        for _ in range(args.num_layers):\n",
        "            self.bns.append(torch.nn.BatchNorm1d(args.heads *hidden_dim))\n",
        "\n",
        "        self.num_layers = args.num_layers\n",
        "\n",
        "        self.emb = emb\n",
        "        self.reset_parameters()\n",
        "\n",
        "    def reset_parameters(self):\n",
        "        # Reset parameters of convolutional layers\n",
        "        for conv in self.convs:\n",
        "            if hasattr(conv, 'reset_parameters'):\n",
        "                conv.reset_parameters()\n",
        "        # Reset parameters of link_regressor layers\n",
        "        for layer in self.link_regressor:\n",
        "            if isinstance(layer, nn.Linear):\n",
        "                layer.reset_parameters()\n",
        "\n",
        "        for bn in self.bns:\n",
        "            bn.reset_parameters()\n",
        "\n",
        "\n",
        "    def build_conv_model(self, model_type):\n",
        "        if model_type == 'GraphSage':\n",
        "            return GraphSage\n",
        "        elif model_type == 'GCN':\n",
        "            return GCNConv\n",
        "        elif model_type == 'GAT':\n",
        "            return GAT\n",
        "\n",
        "    def forward(self, data):\n",
        "        x, edge_index, batch = data.x, data.edge_index, data.batch\n",
        "        out = x\n",
        "\n",
        "        for i in range(self.num_layers):\n",
        "            out = self.convs[i](out, edge_index)\n",
        "            out = self.bns[i](out)\n",
        "            out = F.relu(out)\n",
        "            output = F.dropout(out, p=self.dropout,training=self.training)\n",
        "\n",
        "        if self.emb == True:\n",
        "            return out\n",
        "\n",
        "        return self.predict_edges(out, edge_index)\n",
        "\n",
        "    def predict_edges(self, node_features, edge_index):\n",
        "        # Extract source and destination node embeddings\n",
        "        node_features_src = node_features[edge_index[0]]  # Source nodes\n",
        "        node_features_dst = node_features[edge_index[1]]  # Destination nodes\n",
        "\n",
        "        # Combine embeddings (e.g., using dot product or concatenation)\n",
        "        edge_features = torch.cat([node_features_src, node_features_dst], dim=-1)\n",
        "\n",
        "        # Predict edge values (continuous outputs)\n",
        "        edge_predictions = self.link_regressor(edge_features)\n",
        "\n",
        "        return edge_predictions\n",
        "\n",
        "    def loss(self, pred, label):\n",
        "        return F.l1_loss(pred, label)"
      ],
      "metadata": {
        "id": "aCp_9NGOdnoQ"
      },
      "execution_count": 56,
      "outputs": []
    },
    {
      "cell_type": "markdown",
      "source": [
        "## GraphSage\n"
      ],
      "metadata": {
        "id": "U9DtEZ2zdBcf"
      }
    },
    {
      "cell_type": "code",
      "source": [
        "class GraphSage(MessagePassing):\n",
        "\n",
        "    def __init__(self, in_channels, out_channels, normalize = True,\n",
        "                 bias = False, aggr=\"mean\", **kwargs):\n",
        "        super(GraphSage, self).__init__(**kwargs)\n",
        "\n",
        "        self.in_channels = in_channels\n",
        "        self.out_channels = out_channels\n",
        "        self.normalize = normalize\n",
        "        self.aggr = aggr\n",
        "        ############################################################################\n",
        "        # TODO: Your code here!\n",
        "        # Define the (PyTorch) layers needed for the message and update functions below.\n",
        "        # self.lin_l is the linear transformation that you apply to embedding\n",
        "        #            for central node.\n",
        "        # self.lin_r is the linear transformation that you apply to aggregated\n",
        "        #            message from neighbors.\n",
        "        # Don't forget the bias as part of the linear layers!\n",
        "        # Our implementation is ~2 lines, but don't worry if you deviate from this.\n",
        "        self.lin_l = nn.Linear(in_channels, out_channels, bias=bias)\n",
        "        self.lin_r = nn.Linear(in_channels, out_channels, bias=bias)\n",
        "        ############################################################################\n",
        "\n",
        "        self.reset_parameters()\n",
        "\n",
        "    def reset_parameters(self):\n",
        "        self.lin_l.reset_parameters()\n",
        "        self.lin_r.reset_parameters()\n",
        "\n",
        "    def forward(self, x, edge_index, size = None):\n",
        "        \"\"\"\"\"\"\n",
        "\n",
        "        ############################################################################\n",
        "        # TODO: Your code here!\n",
        "        # Implement message passing, as well as any post-processing (our update rule).\n",
        "        # 1. Call the propagate function to conduct the message passing.\n",
        "        #    1.1 See the description of propagate above or the following link for more information:\n",
        "        #        https://pytorch-geometric.readthedocs.io/en/latest/notes/create_gnn.html\n",
        "        #    1.2 We will only use the representation for neighbor nodes (x_j), so by default\n",
        "        #        we pass the same representation for central and neighbor nodes as x=(x, x).\n",
        "        # 2. Update our node embedding with skip connection from the previous layer.\n",
        "        # 3. If normalize is set, do L-2 normalization (defined in\n",
        "        #    torch.nn.functional)\n",
        "        out = self.propagate(edge_index, x=(x,x), size=size)\n",
        "        out = self.lin_l(x) + self.lin_r(out)\n",
        "        if self.normalize:\n",
        "            out = F.normalize(out, p=2, dim=-1)\n",
        "\n",
        "        return out\n",
        "\n",
        "    def message(self, x_j):\n",
        "\n",
        "        ############################################################################\n",
        "        # TODO: Your code here!\n",
        "        # Implement your message function here.\n",
        "        # Hint: Look at the formulation of the mean aggregation function, focusing on\n",
        "        # what message each neighboring node passes.\n",
        "        #\n",
        "        # Our implementation is ~1 lines, but don't worry if you deviate from this.\n",
        "        out = x_j\n",
        "        ############################################################################\n",
        "\n",
        "        return out\n",
        "\n",
        "    def aggregate(self, inputs, index, dim_size = None):\n",
        "        # The axis along which to index number of nodes.\n",
        "        node_dim = self.node_dim\n",
        "\n",
        "        ############################################################################\n",
        "        # TODO: Your code here!\n",
        "        # Implement your aggregate function here.\n",
        "        # See here as how to use torch_scatter.scatter:\n",
        "        # https://pytorch-scatter.readthedocs.io/en/latest/functions/scatter.html#torch_scatter.scatter\n",
        "        #\n",
        "        # Our implementation is ~1 lines, but don't worry if you deviate from this.\n",
        "        out = torch_scatter.scatter(inputs, index, dim=node_dim, reduce=self.aggr)\n",
        "\n",
        "        ############################################################################\n",
        "\n",
        "        return out"
      ],
      "metadata": {
        "id": "FRy6nRB2dEWr"
      },
      "execution_count": 11,
      "outputs": []
    },
    {
      "cell_type": "markdown",
      "source": [
        "## GAT\n"
      ],
      "metadata": {
        "id": "lV2etmynxHZY"
      }
    },
    {
      "cell_type": "code",
      "source": [
        "class GAT(MessagePassing):\n",
        "\n",
        "    def __init__(self, in_channels, out_channels, heads = 2,\n",
        "                 negative_slope = 0.2, dropout = 0., **kwargs):\n",
        "        super(GAT, self).__init__(node_dim=0, **kwargs)\n",
        "\n",
        "        self.in_channels = in_channels\n",
        "        self.out_channels = out_channels\n",
        "        self.heads = heads\n",
        "        self.negative_slope = negative_slope\n",
        "        self.dropout = dropout\n",
        "\n",
        "        ############################################################################\n",
        "        # TODO: Your code here!\n",
        "        # Define the layers needed for the message functions below.\n",
        "        # self.lin_l is the linear transformation that you apply to embeddings\n",
        "        # BEFORE message passing.\n",
        "        #\n",
        "        # Pay attention to dimensions of the linear layers, since we're using\n",
        "        # multi-head attention.\n",
        "        # Our implementation is ~1 lines, but don't worry if you deviate from this.\n",
        "        self.lin_l = nn.Linear(in_channels, heads * out_channels, bias=False)\n",
        "        ############################################################################\n",
        "\n",
        "        self.lin_r = self.lin_l\n",
        "\n",
        "        ############################################################################\n",
        "        # TODO: Your code here!\n",
        "        # Define the attention parameters \\overrightarrow{a_l/r}^T in the above intro.\n",
        "        # You have to deal with multi-head scenarios.\n",
        "        # Use nn.Parameter instead of nn.Linear\n",
        "        # Our implementation is ~2 lines, but don't worry if you deviate from this.\n",
        "        self.att_l = nn.Parameter(torch.Tensor(1, heads, out_channels))\n",
        "        self.att_r = nn.Parameter(torch.Tensor(1, heads, out_channels))\n",
        "        ############################################################################\n",
        "\n",
        "        self.reset_parameters()\n",
        "\n",
        "    def reset_parameters(self):\n",
        "        nn.init.xavier_uniform_(self.lin_l.weight)\n",
        "        nn.init.xavier_uniform_(self.lin_r.weight)\n",
        "        nn.init.xavier_uniform_(self.att_l)\n",
        "        nn.init.xavier_uniform_(self.att_r)\n",
        "\n",
        "    def forward(self, x, edge_index, size = None):\n",
        "\n",
        "        H, C = self.heads, self.out_channels\n",
        "\n",
        "        ############################################################################\n",
        "        # TODO: Your code here!\n",
        "        # Implement message passing, as well as any pre- and post-processing (our update rule).\n",
        "        # 1. First apply linear transformation to node embeddings, and split that\n",
        "        #    into multiple heads. We use the same representations for source and\n",
        "        #    target nodes, but apply different linear weights (W_l and W_r)\n",
        "        # 2. Calculate alpha vectors for central nodes (alpha_l) and neighbor nodes (alpha_r).\n",
        "        # 3. Call propagate function to conduct the message passing.\n",
        "        #    3.1 Remember to pass alpha = (alpha_l, alpha_r) as a parameter.\n",
        "        #    3.2 See there for more information: https://pytorch-geometric.readthedocs.io/en/latest/notes/create_gnn.html\n",
        "        # 4. Transform the output back to the shape of [N, H * C].\n",
        "        # Our implementation is ~5 lines, but don't worry if you deviate from this.\n",
        "        x_l, x_r = self.lin_l(x).view(-1, H, C), self.lin_r(x).view(-1, H, C)\n",
        "        alpha_l = (x_l * self.att_l).sum(dim=-1)\n",
        "        alpha_r = (x_r * self.att_r).sum(dim=-1)\n",
        "\n",
        "        out = self.propagate(edge_index, x=(x_l,x_r), alpha=(alpha_l, alpha_r), size=size)\n",
        "        out = out.view(-1, H * C)\n",
        "        ############################################################################\n",
        "\n",
        "        return out\n",
        "\n",
        "\n",
        "    def message(self, x_j, alpha_j, alpha_i, index, ptr, size_i):\n",
        "\n",
        "        ############################################################################\n",
        "        # TODO: Your code here!\n",
        "        # Implement your message function. Putting the attention in message\n",
        "        # instead of in update is a little tricky.\n",
        "        # 1. Calculate the final attention weights using alpha_i and alpha_j,\n",
        "        #    and apply leaky Relu.\n",
        "        # 2. Calculate softmax over the neighbor nodes for all the nodes. Use\n",
        "        #    torch_geometric.utils.softmax instead of the one in Pytorch.\n",
        "        # 3. Apply dropout to attention weights (alpha).\n",
        "        # 4. Multiply embeddings and attention weights. As a sanity check, the output\n",
        "        #    should be of shape [E, H, C].\n",
        "        # 5. ptr (LongTensor, optional): If given, computes the softmax based on\n",
        "        #    sorted inputs in CSR representation. You can simply pass it to softmax.\n",
        "        # 6. size_i: corresponds to the num_nodes variable input to the torch.geometric.softmax method\n",
        "        # Our implementation is ~4-5 lines, but don't worry if you deviate from this.\n",
        "        alpha = alpha_i + alpha_j\n",
        "        out = F.leaky_relu(alpha, self.negative_slope)\n",
        "        out = torch_geometric.utils.softmax(out, index, ptr, size_i)\n",
        "        out = F.dropout(out, p=self.dropout, training=self.training)\n",
        "        out = x_j * out.unsqueeze(-1)\n",
        "        ############################################################################\n",
        "\n",
        "        return out\n",
        "\n",
        "\n",
        "    def aggregate(self, inputs, index, dim_size = None):\n",
        "\n",
        "        ############################################################################\n",
        "        # TODO: Your code here!\n",
        "        # Implement your aggregate function here.\n",
        "        # See here as how to use torch_scatter.scatter: https://pytorch-scatter.readthedocs.io/en/latest/_modules/torch_scatter/scatter.html\n",
        "        # Pay attention to \"reduce\" parameter is different from that in GraphSage.\n",
        "        # Our implementation is ~1 lines, but don't worry if you deviate from this.\n",
        "        out = torch_scatter.scatter(inputs, index, dim=0, dim_size=dim_size, reduce='sum')\n",
        "        ############################################################################\n",
        "\n",
        "        return out"
      ],
      "metadata": {
        "id": "6tsoeQzjxJ9L"
      },
      "execution_count": 12,
      "outputs": []
    },
    {
      "cell_type": "markdown",
      "source": [
        "## Optimizer"
      ],
      "metadata": {
        "id": "MQ6POCTRgi1O"
      }
    },
    {
      "cell_type": "code",
      "source": [
        "import torch.optim as optim\n",
        "\n",
        "def build_optimizer(args, params):\n",
        "    weight_decay = args.weight_decay\n",
        "    filter_fn = filter(lambda p : p.requires_grad, params)\n",
        "    if args.opt == 'adam':\n",
        "        optimizer = optim.Adam(filter_fn, lr=args.lr, weight_decay=weight_decay)\n",
        "    elif args.opt == 'sgd':\n",
        "        optimizer = optim.SGD(filter_fn, lr=args.lr, momentum=0.95, weight_decay=weight_decay)\n",
        "    elif args.opt == 'rmsprop':\n",
        "        optimizer = optim.RMSprop(filter_fn, lr=args.lr, weight_decay=weight_decay)\n",
        "    elif args.opt == 'adagrad':\n",
        "        optimizer = optim.Adagrad(filter_fn, lr=args.lr, weight_decay=weight_decay)\n",
        "    if args.opt_scheduler == 'none':\n",
        "        return None, optimizer\n",
        "    elif args.opt_scheduler == 'step':\n",
        "        scheduler = optim.lr_scheduler.StepLR(optimizer, step_size=args.opt_decay_step, gamma=args.opt_decay_rate)\n",
        "    elif args.opt_scheduler == 'cos':\n",
        "        scheduler = optim.lr_scheduler.CosineAnnealingLR(optimizer, T_max=args.opt_restart)\n",
        "    return scheduler, optimizer"
      ],
      "metadata": {
        "id": "H0nIkNBIgiIb"
      },
      "execution_count": 13,
      "outputs": []
    },
    {
      "cell_type": "markdown",
      "source": [
        "# Model Training and Evaluation"
      ],
      "metadata": {
        "id": "NvY_9LEXcUAr"
      }
    },
    {
      "cell_type": "code",
      "source": [
        "pip install torcheval"
      ],
      "metadata": {
        "colab": {
          "base_uri": "https://localhost:8080/"
        },
        "id": "xw3IQo05_f8k",
        "outputId": "fe6af80b-d754-41e1-aa0f-048c6e6fd622"
      },
      "execution_count": 70,
      "outputs": [
        {
          "output_type": "stream",
          "name": "stdout",
          "text": [
            "Collecting torcheval\n",
            "  Downloading torcheval-0.0.7-py3-none-any.whl.metadata (8.6 kB)\n",
            "Requirement already satisfied: typing-extensions in /usr/local/lib/python3.10/dist-packages (from torcheval) (4.12.2)\n",
            "Downloading torcheval-0.0.7-py3-none-any.whl (179 kB)\n",
            "\u001b[?25l   \u001b[90m━━━━━━━━━━━━━━━━━━━━━━━━━━━━━━━━━━━━━━━━\u001b[0m \u001b[32m0.0/179.2 kB\u001b[0m \u001b[31m?\u001b[0m eta \u001b[36m-:--:--\u001b[0m\r\u001b[2K   \u001b[91m━━━━━━━━━━━━━━━━━━━━━━━━━━━━━━━━━━━━━━\u001b[0m\u001b[91m╸\u001b[0m\u001b[90m━\u001b[0m \u001b[32m174.1/179.2 kB\u001b[0m \u001b[31m5.5 MB/s\u001b[0m eta \u001b[36m0:00:01\u001b[0m\r\u001b[2K   \u001b[90m━━━━━━━━━━━━━━━━━━━━━━━━━━━━━━━━━━━━━━━━\u001b[0m \u001b[32m179.2/179.2 kB\u001b[0m \u001b[31m4.0 MB/s\u001b[0m eta \u001b[36m0:00:00\u001b[0m\n",
            "\u001b[?25hInstalling collected packages: torcheval\n",
            "Successfully installed torcheval-0.0.7\n"
          ]
        }
      ]
    },
    {
      "cell_type": "code",
      "source": [
        "from torch_geometric.data import DataLoader\n",
        "from tqdm import trange\n",
        "import matplotlib.pyplot as plt\n",
        "from torcheval.metrics.functional import r2_score\n",
        "\n",
        "def train(args):\n",
        "\n",
        "    transform = T.Compose([T.ToSparseTensor(),\n",
        "                       T.RandomLinkSplit(is_undirected=False)])\n",
        "    dataset = args.dataset\n",
        "    train_data, val_data, test_data = transform(dataset)\n",
        "\n",
        "    #print(\"Node task. test set size:\", np.sum(dataset[0]['test_mask'].numpy()))\n",
        "    #test_loader = loader = DataLoader(dataset, batch_size=args.batch_size, shuffle=False)\n",
        "\n",
        "    # build model\n",
        "    model = GNNStack(dataset.num_node_features, args.hidden_dim, dataset.num_classes,\n",
        "                            args)\n",
        "    scheduler, opt = build_optimizer(args, model.parameters())\n",
        "\n",
        "    # train\n",
        "    train_losses = []\n",
        "    val_losses = []\n",
        "    test_losses = []\n",
        "    train_r2_scores = []\n",
        "    val_r2_scores = []\n",
        "    test_r2_scores = []\n",
        "\n",
        "    best_val_loss = float('inf')\n",
        "    best_model = None\n",
        "\n",
        "    for epoch in trange(args.epochs, desc=\"Training\", unit=\"Epochs\"):\n",
        "        model.train()\n",
        "        #for batch in loader:\n",
        "        opt.zero_grad()\n",
        "        pred = model(train_data).squeeze(-1)\n",
        "        label = train_data.y\n",
        "        #pred = pred[batch.train_mask]\n",
        "        #label = label[batch.train_mask]\n",
        "        loss = model.loss(pred, label)\n",
        "        loss.backward()\n",
        "        opt.step()\n",
        "\n",
        "        train_losses.append(loss.item())\n",
        "        train_r2 = r2_score(pred, label)\n",
        "        train_r2_scores.append(train_r2.item())\n",
        "\n",
        "        val_loss, val_r2 = test(val_data, model)\n",
        "        val_losses.append(val_loss)\n",
        "        val_r2_scores.append(val_r2.item())\n",
        "\n",
        "        print(\n",
        "            f\"Epoch {epoch + 1}: Training Loss {round(loss.item(), 5)}, \"\n",
        "            f\"Training R2 {round(train_r2.item(), 5)}\",\n",
        "            f\"Validation Loss {round(val_loss, 5)}\",\n",
        "            f\"Validation R2 {round(val_r2.item(), 5)}\"\n",
        "        )\n",
        "\n",
        "        if val_loss < best_val_loss:\n",
        "            best_val_loss = val_loss\n",
        "            best_model = copy.deepcopy(model)\n",
        "\n",
        "        test_loss, test_r2 = test(test_data, model)\n",
        "        test_losses.append(test_loss)\n",
        "        test_r2_scores.append(test_r2.item())\n",
        "\n",
        "    return train_losses, val_losses, test_losses, best_model, test_data\n",
        "\n",
        "\n",
        "def test(data, test_model, save_model_preds=False, model_type=None,\n",
        "         feature_type=None):\n",
        "    test_model.eval()\n",
        "\n",
        "    #correct = 0\n",
        "    # Note that Cora is only one graph!\n",
        "    with torch.no_grad():\n",
        "        # max(dim=1) returns values, indices tuple; only need indices\n",
        "        pred = test_model(data).squeeze(-1)\n",
        "        label = data.y\n",
        "        loss = test_model.loss(pred, label)\n",
        "        r2 = r2_score(pred, label)\n",
        "        #mask = data.val_mask if is_validation else data.test_mask\n",
        "        # node classification: only evaluate on nodes in test set\n",
        "        #pred = pred[mask]\n",
        "        #label = label[mask]\n",
        "\n",
        "        if save_model_preds:\n",
        "            print (\"Saving Model Predictions for Model Type\", model_type)\n",
        "\n",
        "            data = {}\n",
        "            data['pred'] = pred.view(-1).cpu().detach().numpy()\n",
        "            data['label'] = label.view(-1).cpu().detach().numpy()\n",
        "\n",
        "            df = pd.DataFrame(data=data)\n",
        "            # Save locally as csv\n",
        "            df.to_csv('flow_' + model_type + \"_\" + feature_type +\n",
        "                      '.csv', sep=',', index=False)\n",
        "            # save model object as a pickle\n",
        "\n",
        "        #correct += pred.eq(label).sum().item()\n",
        "\n",
        "    #total = 0\n",
        "    #for data in loader.dataset:\n",
        "    #total += torch.sum(data.val_mask if is_validation else data.test_mask).item()\n",
        "\n",
        "    return loss.item(), r2\n",
        "\n",
        "class objectview(object):\n",
        "    def __init__(self, d):\n",
        "        self.__dict__ = d\n"
      ],
      "metadata": {
        "id": "lPO1YankcYkn"
      },
      "execution_count": 77,
      "outputs": []
    },
    {
      "cell_type": "code",
      "source": [
        "def run_pipeline(arg):\n",
        "\n",
        "    args = objectview(arg)\n",
        "    train_losses, val_losses, test_losses, best_model, test_data = train(args)\n",
        "\n",
        "    #print(\"Maximum test set accuracy: {0}\".format(max(test_accs)))\n",
        "    print(\"Minimum validation loss: {0}\".format(min(val_losses)))\n",
        "    print(\"Minimum test loss: {0}\".format(min(test_losses)))\n",
        "    # Run test for our best model to save the predictions!\n",
        "    test(test_data, best_model, save_model_preds=True,\n",
        "         model_type=args.model_type, feature_type=args.feature_type)\n",
        "\n",
        "    plt.title(\"Migration Flow Prediction L1 Loss\")\n",
        "    plt.plot(train_losses, label=\"training loss\" + \" - \" + args.model_type)\n",
        "    plt.plot(val_losses, label=\"validation loss\" + \" - \" + args.model_type)\n",
        "    plt.plot(test_losses, label=\"test loss\" + \" - \" + args.model_type)\n",
        "    plt.legend()\n",
        "    plt.show()"
      ],
      "metadata": {
        "id": "292GY-nDytsK"
      },
      "execution_count": 74,
      "outputs": []
    },
    {
      "cell_type": "markdown",
      "source": [
        "## Running models"
      ],
      "metadata": {
        "id": "0viIPXr1zaSh"
      }
    },
    {
      "cell_type": "code",
      "source": [
        "device = torch.device('cuda' if torch.cuda.is_available() else 'cpu')\n",
        "args = {\n",
        "    'device': device,\n",
        "    'num_layers': 3,\n",
        "    'hidden_dim': 64,\n",
        "    \"out_dim\": 1,\n",
        "    'dropout': 0.5,\n",
        "    'lr': 0.01,\n",
        "    'epochs': 100,\n",
        "    'model_type': \"GCN\",\n",
        "    'batch_size': 32,\n",
        "    'heads': 1,\n",
        "    'opt': 'adam',\n",
        "    'opt_scheduler': 'none',\n",
        "    'opt_restart': 0,\n",
        "    'weight_decay': 5e-3,\n",
        "    'feature_type': 'full',\n",
        "    'dataset': data_full\n",
        "}\n",
        "\n",
        "args_GraphSage = args.copy()\n",
        "args_GraphSage[\"model_type\"] = \"GraphSage\"\n",
        "\n",
        "args_GAT = args.copy()\n",
        "args_GAT[\"model_type\"] = \"GAT\"\n",
        "args_GAT[\"heads\"] = 2"
      ],
      "metadata": {
        "id": "y_y9kbmLmR5d"
      },
      "execution_count": 75,
      "outputs": []
    },
    {
      "cell_type": "code",
      "source": [
        "run_pipeline(args_GraphSage)"
      ],
      "metadata": {
        "colab": {
          "base_uri": "https://localhost:8080/",
          "height": 1000
        },
        "id": "ey4ndok86A19",
        "outputId": "40ab3ee7-982a-43a3-f3a1-530337295c77"
      },
      "execution_count": 78,
      "outputs": [
        {
          "output_type": "stream",
          "name": "stderr",
          "text": [
            "\rTraining:   0%|          | 0/100 [00:00<?, ?Epochs/s]"
          ]
        },
        {
          "output_type": "stream",
          "name": "stdout",
          "text": [
            "Epoch 1: Training Loss 154.27269, Training R2 -0.07302 Validation Loss 153.77066 Validation R2 -0.0725\n"
          ]
        },
        {
          "output_type": "stream",
          "name": "stderr",
          "text": [
            "\rTraining:   1%|          | 1/100 [00:01<01:41,  1.03s/Epochs]"
          ]
        },
        {
          "output_type": "stream",
          "name": "stdout",
          "text": [
            "Epoch 2: Training Loss 151.86902, Training R2 -0.07061 Validation Loss 153.34454 Validation R2 -0.07208\n"
          ]
        },
        {
          "output_type": "stream",
          "name": "stderr",
          "text": [
            "\rTraining:   2%|▏         | 2/100 [00:02<01:44,  1.07s/Epochs]"
          ]
        },
        {
          "output_type": "stream",
          "name": "stdout",
          "text": [
            "Epoch 3: Training Loss 146.87949, Training R2 -0.06517 Validation Loss 152.9232 Validation R2 -0.07163\n"
          ]
        },
        {
          "output_type": "stream",
          "name": "stderr",
          "text": [
            "\rTraining:   3%|▎         | 3/100 [00:03<01:52,  1.16s/Epochs]"
          ]
        },
        {
          "output_type": "stream",
          "name": "stdout",
          "text": [
            "Epoch 4: Training Loss 139.02621, Training R2 -0.05666 Validation Loss 152.5677 Validation R2 -0.07125\n"
          ]
        },
        {
          "output_type": "stream",
          "name": "stderr",
          "text": [
            "\rTraining:   4%|▍         | 4/100 [00:04<02:02,  1.27s/Epochs]"
          ]
        },
        {
          "output_type": "stream",
          "name": "stdout",
          "text": [
            "Epoch 5: Training Loss 129.38895, Training R2 -0.04476 Validation Loss 152.21307 Validation R2 -0.07088\n"
          ]
        },
        {
          "output_type": "stream",
          "name": "stderr",
          "text": [
            "\rTraining:   5%|▌         | 5/100 [00:06<02:09,  1.36s/Epochs]"
          ]
        },
        {
          "output_type": "stream",
          "name": "stdout",
          "text": [
            "Epoch 6: Training Loss 123.01289, Training R2 -0.03048 Validation Loss 151.50714 Validation R2 -0.07008\n"
          ]
        },
        {
          "output_type": "stream",
          "name": "stderr",
          "text": [
            "\rTraining:   6%|▌         | 6/100 [00:07<02:05,  1.34s/Epochs]"
          ]
        },
        {
          "output_type": "stream",
          "name": "stdout",
          "text": [
            "Epoch 7: Training Loss 120.08228, Training R2 -0.0204 Validation Loss 149.67894 Validation R2 -0.06806\n"
          ]
        },
        {
          "output_type": "stream",
          "name": "stderr",
          "text": [
            "\rTraining:   7%|▋         | 7/100 [00:08<01:56,  1.25s/Epochs]"
          ]
        },
        {
          "output_type": "stream",
          "name": "stdout",
          "text": [
            "Epoch 8: Training Loss 118.23846, Training R2 -0.01914 Validation Loss 145.69083 Validation R2 -0.06432\n"
          ]
        },
        {
          "output_type": "stream",
          "name": "stderr",
          "text": [
            "\rTraining:   8%|▊         | 8/100 [00:09<01:50,  1.21s/Epochs]"
          ]
        },
        {
          "output_type": "stream",
          "name": "stdout",
          "text": [
            "Epoch 9: Training Loss 117.17096, Training R2 -0.02573 Validation Loss 140.99507 Validation R2 -0.06038\n"
          ]
        },
        {
          "output_type": "stream",
          "name": "stderr",
          "text": [
            "\rTraining:   9%|▉         | 9/100 [00:10<01:46,  1.17s/Epochs]"
          ]
        },
        {
          "output_type": "stream",
          "name": "stdout",
          "text": [
            "Epoch 10: Training Loss 116.4174, Training R2 -0.02449 Validation Loss 137.28931 Validation R2 -0.05738\n"
          ]
        },
        {
          "output_type": "stream",
          "name": "stderr",
          "text": [
            "\rTraining:  10%|█         | 10/100 [00:12<01:43,  1.15s/Epochs]"
          ]
        },
        {
          "output_type": "stream",
          "name": "stdout",
          "text": [
            "Epoch 11: Training Loss 115.93819, Training R2 -0.0208 Validation Loss 134.55278 Validation R2 -0.05522\n"
          ]
        },
        {
          "output_type": "stream",
          "name": "stderr",
          "text": [
            "\rTraining:  11%|█         | 11/100 [00:13<01:40,  1.13s/Epochs]"
          ]
        },
        {
          "output_type": "stream",
          "name": "stdout",
          "text": [
            "Epoch 12: Training Loss 115.74918, Training R2 -0.0182 Validation Loss 132.66148 Validation R2 -0.05376\n"
          ]
        },
        {
          "output_type": "stream",
          "name": "stderr",
          "text": [
            "\rTraining:  12%|█▏        | 12/100 [00:14<01:38,  1.12s/Epochs]"
          ]
        },
        {
          "output_type": "stream",
          "name": "stdout",
          "text": [
            "Epoch 13: Training Loss 115.63985, Training R2 -0.01913 Validation Loss 131.36037 Validation R2 -0.05276\n"
          ]
        },
        {
          "output_type": "stream",
          "name": "stderr",
          "text": [
            "\rTraining:  13%|█▎        | 13/100 [00:15<01:36,  1.11s/Epochs]"
          ]
        },
        {
          "output_type": "stream",
          "name": "stdout",
          "text": [
            "Epoch 14: Training Loss 115.6037, Training R2 -0.02121 Validation Loss 130.55223 Validation R2 -0.05215\n"
          ]
        },
        {
          "output_type": "stream",
          "name": "stderr",
          "text": [
            "\rTraining:  14%|█▍        | 14/100 [00:16<01:35,  1.11s/Epochs]"
          ]
        },
        {
          "output_type": "stream",
          "name": "stdout",
          "text": [
            "Epoch 15: Training Loss 115.6626, Training R2 -0.02221 Validation Loss 130.09659 Validation R2 -0.0518\n"
          ]
        },
        {
          "output_type": "stream",
          "name": "stderr",
          "text": [
            "\rTraining:  15%|█▌        | 15/100 [00:17<01:37,  1.15s/Epochs]"
          ]
        },
        {
          "output_type": "stream",
          "name": "stdout",
          "text": [
            "Epoch 16: Training Loss 115.70473, Training R2 -0.02216 Validation Loss 129.83234 Validation R2 -0.05158\n"
          ]
        },
        {
          "output_type": "stream",
          "name": "stderr",
          "text": [
            "\rTraining:  16%|█▌        | 16/100 [00:19<01:44,  1.24s/Epochs]"
          ]
        },
        {
          "output_type": "stream",
          "name": "stdout",
          "text": [
            "Epoch 17: Training Loss 115.73466, Training R2 -0.02077 Validation Loss 129.69806 Validation R2 -0.05146\n"
          ]
        },
        {
          "output_type": "stream",
          "name": "stderr",
          "text": [
            "\rTraining:  17%|█▋        | 17/100 [00:20<01:48,  1.31s/Epochs]"
          ]
        },
        {
          "output_type": "stream",
          "name": "stdout",
          "text": [
            "Epoch 18: Training Loss 115.69785, Training R2 -0.01925 Validation Loss 129.64238 Validation R2 -0.05141\n"
          ]
        },
        {
          "output_type": "stream",
          "name": "stderr",
          "text": [
            "\rTraining:  18%|█▊        | 18/100 [00:21<01:43,  1.26s/Epochs]"
          ]
        },
        {
          "output_type": "stream",
          "name": "stdout",
          "text": [
            "Epoch 19: Training Loss 115.71612, Training R2 -0.01846 Validation Loss 129.62483 Validation R2 -0.05138\n"
          ]
        },
        {
          "output_type": "stream",
          "name": "stderr",
          "text": [
            "\rTraining:  19%|█▉        | 19/100 [00:22<01:35,  1.18s/Epochs]"
          ]
        },
        {
          "output_type": "stream",
          "name": "stdout",
          "text": [
            "Epoch 20: Training Loss 115.60188, Training R2 -0.0196 Validation Loss 129.62415 Validation R2 -0.05137\n"
          ]
        },
        {
          "output_type": "stream",
          "name": "stderr",
          "text": [
            "\rTraining:  20%|██        | 20/100 [00:23<01:32,  1.16s/Epochs]"
          ]
        },
        {
          "output_type": "stream",
          "name": "stdout",
          "text": [
            "Epoch 21: Training Loss 115.47437, Training R2 -0.02135 Validation Loss 129.58669 Validation R2 -0.05133\n"
          ]
        },
        {
          "output_type": "stream",
          "name": "stderr",
          "text": [
            "\rTraining:  21%|██        | 21/100 [00:25<01:36,  1.22s/Epochs]"
          ]
        },
        {
          "output_type": "stream",
          "name": "stdout",
          "text": [
            "Epoch 22: Training Loss 115.44753, Training R2 -0.02174 Validation Loss 129.50998 Validation R2 -0.05124\n"
          ]
        },
        {
          "output_type": "stream",
          "name": "stderr",
          "text": [
            "\rTraining:  22%|██▏       | 22/100 [00:26<01:30,  1.16s/Epochs]"
          ]
        },
        {
          "output_type": "stream",
          "name": "stdout",
          "text": [
            "Epoch 23: Training Loss 115.38972, Training R2 -0.02107 Validation Loss 129.41982 Validation R2 -0.05112\n"
          ]
        },
        {
          "output_type": "stream",
          "name": "stderr",
          "text": [
            "\rTraining:  23%|██▎       | 23/100 [00:27<01:26,  1.12s/Epochs]"
          ]
        },
        {
          "output_type": "stream",
          "name": "stdout",
          "text": [
            "Epoch 24: Training Loss 115.3184, Training R2 -0.02017 Validation Loss 129.33725 Validation R2 -0.05102\n"
          ]
        },
        {
          "output_type": "stream",
          "name": "stderr",
          "text": [
            "\rTraining:  24%|██▍       | 24/100 [00:28<01:25,  1.13s/Epochs]"
          ]
        },
        {
          "output_type": "stream",
          "name": "stdout",
          "text": [
            "Epoch 25: Training Loss 115.26079, Training R2 -0.01906 Validation Loss 129.28467 Validation R2 -0.05094\n"
          ]
        },
        {
          "output_type": "stream",
          "name": "stderr",
          "text": [
            "\rTraining:  25%|██▌       | 25/100 [00:29<01:23,  1.12s/Epochs]"
          ]
        },
        {
          "output_type": "stream",
          "name": "stdout",
          "text": [
            "Epoch 26: Training Loss 115.24294, Training R2 -0.01894 Validation Loss 129.26729 Validation R2 -0.05091\n"
          ]
        },
        {
          "output_type": "stream",
          "name": "stderr",
          "text": [
            "\rTraining:  26%|██▌       | 26/100 [00:30<01:22,  1.12s/Epochs]"
          ]
        },
        {
          "output_type": "stream",
          "name": "stdout",
          "text": [
            "Epoch 27: Training Loss 115.28133, Training R2 -0.01974 Validation Loss 129.25404 Validation R2 -0.05088\n"
          ]
        },
        {
          "output_type": "stream",
          "name": "stderr",
          "text": [
            "\rTraining:  27%|██▋       | 27/100 [00:31<01:25,  1.18s/Epochs]"
          ]
        },
        {
          "output_type": "stream",
          "name": "stdout",
          "text": [
            "Epoch 28: Training Loss 115.2791, Training R2 -0.02075 Validation Loss 129.23137 Validation R2 -0.05083\n"
          ]
        },
        {
          "output_type": "stream",
          "name": "stderr",
          "text": [
            "\rTraining:  28%|██▊       | 28/100 [00:33<01:31,  1.27s/Epochs]"
          ]
        },
        {
          "output_type": "stream",
          "name": "stdout",
          "text": [
            "Epoch 29: Training Loss 115.18774, Training R2 -0.0215 Validation Loss 129.22252 Validation R2 -0.05078\n"
          ]
        },
        {
          "output_type": "stream",
          "name": "stderr",
          "text": [
            "\rTraining:  29%|██▉       | 29/100 [00:34<01:35,  1.34s/Epochs]"
          ]
        },
        {
          "output_type": "stream",
          "name": "stdout",
          "text": [
            "Epoch 30: Training Loss 115.15984, Training R2 -0.02097 Validation Loss 129.18886 Validation R2 -0.05069\n"
          ]
        },
        {
          "output_type": "stream",
          "name": "stderr",
          "text": [
            "\rTraining:  30%|███       | 30/100 [00:35<01:27,  1.25s/Epochs]"
          ]
        },
        {
          "output_type": "stream",
          "name": "stdout",
          "text": [
            "Epoch 31: Training Loss 115.17109, Training R2 -0.02009 Validation Loss 129.09303 Validation R2 -0.05054\n"
          ]
        },
        {
          "output_type": "stream",
          "name": "stderr",
          "text": [
            "\rTraining:  31%|███       | 31/100 [00:36<01:21,  1.18s/Epochs]"
          ]
        },
        {
          "output_type": "stream",
          "name": "stdout",
          "text": [
            "Epoch 32: Training Loss 115.19109, Training R2 -0.01958 Validation Loss 128.93799 Validation R2 -0.05036\n"
          ]
        },
        {
          "output_type": "stream",
          "name": "stderr",
          "text": [
            "\rTraining:  32%|███▏      | 32/100 [00:38<01:18,  1.16s/Epochs]"
          ]
        },
        {
          "output_type": "stream",
          "name": "stdout",
          "text": [
            "Epoch 33: Training Loss 115.11797, Training R2 -0.01916 Validation Loss 128.72285 Validation R2 -0.05014\n"
          ]
        },
        {
          "output_type": "stream",
          "name": "stderr",
          "text": [
            "\rTraining:  33%|███▎      | 33/100 [00:39<01:16,  1.14s/Epochs]"
          ]
        },
        {
          "output_type": "stream",
          "name": "stdout",
          "text": [
            "Epoch 34: Training Loss 115.11491, Training R2 -0.01985 Validation Loss 128.4516 Validation R2 -0.04989\n"
          ]
        },
        {
          "output_type": "stream",
          "name": "stderr",
          "text": [
            "\rTraining:  34%|███▍      | 34/100 [00:40<01:14,  1.13s/Epochs]"
          ]
        },
        {
          "output_type": "stream",
          "name": "stdout",
          "text": [
            "Epoch 35: Training Loss 115.12862, Training R2 -0.02078 Validation Loss 128.12677 Validation R2 -0.04957\n"
          ]
        },
        {
          "output_type": "stream",
          "name": "stderr",
          "text": [
            "\rTraining:  35%|███▌      | 35/100 [00:41<01:13,  1.13s/Epochs]"
          ]
        },
        {
          "output_type": "stream",
          "name": "stdout",
          "text": [
            "Epoch 36: Training Loss 115.04768, Training R2 -0.02083 Validation Loss 127.69405 Validation R2 -0.0491\n"
          ]
        },
        {
          "output_type": "stream",
          "name": "stderr",
          "text": [
            "\rTraining:  36%|███▌      | 36/100 [00:42<01:12,  1.13s/Epochs]"
          ]
        },
        {
          "output_type": "stream",
          "name": "stdout",
          "text": [
            "Epoch 37: Training Loss 115.12316, Training R2 -0.02062 Validation Loss 127.21437 Validation R2 -0.04857\n"
          ]
        },
        {
          "output_type": "stream",
          "name": "stderr",
          "text": [
            "\rTraining:  37%|███▋      | 37/100 [00:43<01:11,  1.13s/Epochs]"
          ]
        },
        {
          "output_type": "stream",
          "name": "stdout",
          "text": [
            "Epoch 38: Training Loss 115.06749, Training R2 -0.0199 Validation Loss 126.71794 Validation R2 -0.04802\n"
          ]
        },
        {
          "output_type": "stream",
          "name": "stderr",
          "text": [
            "\rTraining:  38%|███▊      | 38/100 [00:44<01:09,  1.13s/Epochs]"
          ]
        },
        {
          "output_type": "stream",
          "name": "stdout",
          "text": [
            "Epoch 39: Training Loss 115.12096, Training R2 -0.01957 Validation Loss 126.22997 Validation R2 -0.04749\n"
          ]
        },
        {
          "output_type": "stream",
          "name": "stderr",
          "text": [
            "\rTraining:  39%|███▉      | 39/100 [00:46<01:15,  1.25s/Epochs]"
          ]
        },
        {
          "output_type": "stream",
          "name": "stdout",
          "text": [
            "Epoch 40: Training Loss 115.07683, Training R2 -0.01942 Validation Loss 125.75024 Validation R2 -0.04698\n"
          ]
        },
        {
          "output_type": "stream",
          "name": "stderr",
          "text": [
            "\rTraining:  40%|████      | 40/100 [00:47<01:19,  1.32s/Epochs]"
          ]
        },
        {
          "output_type": "stream",
          "name": "stdout",
          "text": [
            "Epoch 41: Training Loss 115.03349, Training R2 -0.02029 Validation Loss 125.27206 Validation R2 -0.04645\n"
          ]
        },
        {
          "output_type": "stream",
          "name": "stderr",
          "text": [
            "\rTraining:  41%|████      | 41/100 [00:49<01:21,  1.37s/Epochs]"
          ]
        },
        {
          "output_type": "stream",
          "name": "stdout",
          "text": [
            "Epoch 42: Training Loss 115.05546, Training R2 -0.02054 Validation Loss 124.74787 Validation R2 -0.04581\n"
          ]
        },
        {
          "output_type": "stream",
          "name": "stderr",
          "text": [
            "\rTraining:  42%|████▏     | 42/100 [00:50<01:15,  1.30s/Epochs]"
          ]
        },
        {
          "output_type": "stream",
          "name": "stdout",
          "text": [
            "Epoch 43: Training Loss 115.02057, Training R2 -0.02044 Validation Loss 124.17535 Validation R2 -0.04506\n"
          ]
        },
        {
          "output_type": "stream",
          "name": "stderr",
          "text": [
            "\rTraining:  43%|████▎     | 43/100 [00:51<01:10,  1.24s/Epochs]"
          ]
        },
        {
          "output_type": "stream",
          "name": "stdout",
          "text": [
            "Epoch 44: Training Loss 115.11138, Training R2 -0.01983 Validation Loss 123.57008 Validation R2 -0.04426\n"
          ]
        },
        {
          "output_type": "stream",
          "name": "stderr",
          "text": [
            "\rTraining:  44%|████▍     | 44/100 [00:52<01:07,  1.21s/Epochs]"
          ]
        },
        {
          "output_type": "stream",
          "name": "stdout",
          "text": [
            "Epoch 45: Training Loss 115.00351, Training R2 -0.01941 Validation Loss 122.98028 Validation R2 -0.04348\n"
          ]
        },
        {
          "output_type": "stream",
          "name": "stderr",
          "text": [
            "\rTraining:  45%|████▌     | 45/100 [00:53<01:04,  1.17s/Epochs]"
          ]
        },
        {
          "output_type": "stream",
          "name": "stdout",
          "text": [
            "Epoch 46: Training Loss 115.064, Training R2 -0.01932 Validation Loss 122.35735 Validation R2 -0.04267\n"
          ]
        },
        {
          "output_type": "stream",
          "name": "stderr",
          "text": [
            "\rTraining:  46%|████▌     | 46/100 [00:55<01:07,  1.25s/Epochs]"
          ]
        },
        {
          "output_type": "stream",
          "name": "stdout",
          "text": [
            "Epoch 47: Training Loss 115.04477, Training R2 -0.02004 Validation Loss 121.7139 Validation R2 -0.04179\n"
          ]
        },
        {
          "output_type": "stream",
          "name": "stderr",
          "text": [
            "\rTraining:  47%|████▋     | 47/100 [00:56<01:04,  1.22s/Epochs]"
          ]
        },
        {
          "output_type": "stream",
          "name": "stdout",
          "text": [
            "Epoch 48: Training Loss 115.01355, Training R2 -0.02019 Validation Loss 121.09138 Validation R2 -0.04086\n"
          ]
        },
        {
          "output_type": "stream",
          "name": "stderr",
          "text": [
            "\rTraining:  48%|████▊     | 48/100 [00:57<01:01,  1.19s/Epochs]"
          ]
        },
        {
          "output_type": "stream",
          "name": "stdout",
          "text": [
            "Epoch 49: Training Loss 115.04755, Training R2 -0.02026 Validation Loss 120.55753 Validation R2 -0.03998\n"
          ]
        },
        {
          "output_type": "stream",
          "name": "stderr",
          "text": [
            "\rTraining:  49%|████▉     | 49/100 [00:58<00:59,  1.17s/Epochs]"
          ]
        },
        {
          "output_type": "stream",
          "name": "stdout",
          "text": [
            "Epoch 50: Training Loss 115.05676, Training R2 -0.01976 Validation Loss 120.08873 Validation R2 -0.03918\n"
          ]
        },
        {
          "output_type": "stream",
          "name": "stderr",
          "text": [
            "\rTraining:  50%|█████     | 50/100 [00:59<00:59,  1.20s/Epochs]"
          ]
        },
        {
          "output_type": "stream",
          "name": "stdout",
          "text": [
            "Epoch 51: Training Loss 114.97459, Training R2 -0.01954 Validation Loss 119.69054 Validation R2 -0.03846\n"
          ]
        },
        {
          "output_type": "stream",
          "name": "stderr",
          "text": [
            "\rTraining:  51%|█████     | 51/100 [01:01<01:03,  1.29s/Epochs]"
          ]
        },
        {
          "output_type": "stream",
          "name": "stdout",
          "text": [
            "Epoch 52: Training Loss 115.05749, Training R2 -0.01947 Validation Loss 119.31978 Validation R2 -0.03774\n"
          ]
        },
        {
          "output_type": "stream",
          "name": "stderr",
          "text": [
            "\rTraining:  52%|█████▏    | 52/100 [01:02<01:04,  1.35s/Epochs]"
          ]
        },
        {
          "output_type": "stream",
          "name": "stdout",
          "text": [
            "Epoch 53: Training Loss 115.04285, Training R2 -0.01925 Validation Loss 118.91207 Validation R2 -0.03694\n"
          ]
        },
        {
          "output_type": "stream",
          "name": "stderr",
          "text": [
            "\rTraining:  53%|█████▎    | 53/100 [01:04<01:03,  1.36s/Epochs]"
          ]
        },
        {
          "output_type": "stream",
          "name": "stdout",
          "text": [
            "Epoch 54: Training Loss 114.97117, Training R2 -0.01966 Validation Loss 118.47143 Validation R2 -0.03605\n"
          ]
        },
        {
          "output_type": "stream",
          "name": "stderr",
          "text": [
            "\rTraining:  54%|█████▍    | 54/100 [01:05<00:59,  1.29s/Epochs]"
          ]
        },
        {
          "output_type": "stream",
          "name": "stdout",
          "text": [
            "Epoch 55: Training Loss 114.99117, Training R2 -0.01984 Validation Loss 118.05011 Validation R2 -0.03516\n"
          ]
        },
        {
          "output_type": "stream",
          "name": "stderr",
          "text": [
            "\rTraining:  55%|█████▌    | 55/100 [01:06<00:55,  1.24s/Epochs]"
          ]
        },
        {
          "output_type": "stream",
          "name": "stdout",
          "text": [
            "Epoch 56: Training Loss 115.0118, Training R2 -0.0197 Validation Loss 117.66876 Validation R2 -0.03434\n"
          ]
        },
        {
          "output_type": "stream",
          "name": "stderr",
          "text": [
            "\rTraining:  56%|█████▌    | 56/100 [01:07<00:53,  1.21s/Epochs]"
          ]
        },
        {
          "output_type": "stream",
          "name": "stdout",
          "text": [
            "Epoch 57: Training Loss 114.97389, Training R2 -0.0199 Validation Loss 117.33781 Validation R2 -0.03354\n"
          ]
        },
        {
          "output_type": "stream",
          "name": "stderr",
          "text": [
            "\rTraining:  57%|█████▋    | 57/100 [01:08<00:50,  1.18s/Epochs]"
          ]
        },
        {
          "output_type": "stream",
          "name": "stdout",
          "text": [
            "Epoch 58: Training Loss 115.01611, Training R2 -0.01992 Validation Loss 117.00708 Validation R2 -0.03267\n"
          ]
        },
        {
          "output_type": "stream",
          "name": "stderr",
          "text": [
            "\rTraining:  58%|█████▊    | 58/100 [01:09<00:48,  1.16s/Epochs]"
          ]
        },
        {
          "output_type": "stream",
          "name": "stdout",
          "text": [
            "Epoch 59: Training Loss 114.98219, Training R2 -0.01953 Validation Loss 116.67328 Validation R2 -0.03178\n"
          ]
        },
        {
          "output_type": "stream",
          "name": "stderr",
          "text": [
            "\rTraining:  59%|█████▉    | 59/100 [01:10<00:46,  1.15s/Epochs]"
          ]
        },
        {
          "output_type": "stream",
          "name": "stdout",
          "text": [
            "Epoch 60: Training Loss 114.99352, Training R2 -0.0196 Validation Loss 116.35562 Validation R2 -0.0309\n"
          ]
        },
        {
          "output_type": "stream",
          "name": "stderr",
          "text": [
            "\rTraining:  60%|██████    | 60/100 [01:12<00:45,  1.13s/Epochs]"
          ]
        },
        {
          "output_type": "stream",
          "name": "stdout",
          "text": [
            "Epoch 61: Training Loss 115.00292, Training R2 -0.02012 Validation Loss 116.07464 Validation R2 -0.03006\n"
          ]
        },
        {
          "output_type": "stream",
          "name": "stderr",
          "text": [
            "\rTraining:  61%|██████    | 61/100 [01:13<00:44,  1.13s/Epochs]"
          ]
        },
        {
          "output_type": "stream",
          "name": "stdout",
          "text": [
            "Epoch 62: Training Loss 115.0062, Training R2 -0.02017 Validation Loss 115.85519 Validation R2 -0.02931\n"
          ]
        },
        {
          "output_type": "stream",
          "name": "stderr",
          "text": [
            "\rTraining:  62%|██████▏   | 62/100 [01:14<00:44,  1.18s/Epochs]"
          ]
        },
        {
          "output_type": "stream",
          "name": "stdout",
          "text": [
            "Epoch 63: Training Loss 115.01406, Training R2 -0.02038 Validation Loss 115.70009 Validation R2 -0.02868\n"
          ]
        },
        {
          "output_type": "stream",
          "name": "stderr",
          "text": [
            "\rTraining:  63%|██████▎   | 63/100 [01:15<00:47,  1.28s/Epochs]"
          ]
        },
        {
          "output_type": "stream",
          "name": "stdout",
          "text": [
            "Epoch 64: Training Loss 115.00414, Training R2 -0.01972 Validation Loss 115.58182 Validation R2 -0.02813\n"
          ]
        },
        {
          "output_type": "stream",
          "name": "stderr",
          "text": [
            "\rTraining:  64%|██████▍   | 64/100 [01:17<00:48,  1.35s/Epochs]"
          ]
        },
        {
          "output_type": "stream",
          "name": "stdout",
          "text": [
            "Epoch 65: Training Loss 114.98125, Training R2 -0.01949 Validation Loss 115.49011 Validation R2 -0.0277\n"
          ]
        },
        {
          "output_type": "stream",
          "name": "stderr",
          "text": [
            "\rTraining:  65%|██████▌   | 65/100 [01:18<00:46,  1.33s/Epochs]"
          ]
        },
        {
          "output_type": "stream",
          "name": "stdout",
          "text": [
            "Epoch 66: Training Loss 114.97951, Training R2 -0.0195 Validation Loss 115.39768 Validation R2 -0.0273\n"
          ]
        },
        {
          "output_type": "stream",
          "name": "stderr",
          "text": [
            "\rTraining:  66%|██████▌   | 66/100 [01:19<00:43,  1.27s/Epochs]"
          ]
        },
        {
          "output_type": "stream",
          "name": "stdout",
          "text": [
            "Epoch 67: Training Loss 114.9889, Training R2 -0.01967 Validation Loss 115.29097 Validation R2 -0.02681\n"
          ]
        },
        {
          "output_type": "stream",
          "name": "stderr",
          "text": [
            "\rTraining:  67%|██████▋   | 67/100 [01:21<00:40,  1.23s/Epochs]"
          ]
        },
        {
          "output_type": "stream",
          "name": "stdout",
          "text": [
            "Epoch 68: Training Loss 115.0296, Training R2 -0.01977 Validation Loss 115.17774 Validation R2 -0.02624\n"
          ]
        },
        {
          "output_type": "stream",
          "name": "stderr",
          "text": [
            "\rTraining:  68%|██████▊   | 68/100 [01:22<00:38,  1.20s/Epochs]"
          ]
        },
        {
          "output_type": "stream",
          "name": "stdout",
          "text": [
            "Epoch 69: Training Loss 114.96145, Training R2 -0.01966 Validation Loss 115.09392 Validation R2 -0.02581\n"
          ]
        },
        {
          "output_type": "stream",
          "name": "stderr",
          "text": [
            "\rTraining:  69%|██████▉   | 69/100 [01:23<00:36,  1.17s/Epochs]"
          ]
        },
        {
          "output_type": "stream",
          "name": "stdout",
          "text": [
            "Epoch 70: Training Loss 114.98169, Training R2 -0.01963 Validation Loss 115.04208 Validation R2 -0.02557\n"
          ]
        },
        {
          "output_type": "stream",
          "name": "stderr",
          "text": [
            "\rTraining:  70%|███████   | 70/100 [01:24<00:34,  1.15s/Epochs]"
          ]
        },
        {
          "output_type": "stream",
          "name": "stdout",
          "text": [
            "Epoch 71: Training Loss 115.00486, Training R2 -0.01992 Validation Loss 114.97459 Validation R2 -0.02518\n"
          ]
        },
        {
          "output_type": "stream",
          "name": "stderr",
          "text": [
            "\rTraining:  71%|███████   | 71/100 [01:25<00:33,  1.14s/Epochs]"
          ]
        },
        {
          "output_type": "stream",
          "name": "stdout",
          "text": [
            "Epoch 72: Training Loss 115.00142, Training R2 -0.01987 Validation Loss 114.87696 Validation R2 -0.02446\n"
          ]
        },
        {
          "output_type": "stream",
          "name": "stderr",
          "text": [
            "\rTraining:  72%|███████▏  | 72/100 [01:26<00:31,  1.14s/Epochs]"
          ]
        },
        {
          "output_type": "stream",
          "name": "stdout",
          "text": [
            "Epoch 73: Training Loss 114.98026, Training R2 -0.01924 Validation Loss 114.79922 Validation R2 -0.02385\n"
          ]
        },
        {
          "output_type": "stream",
          "name": "stderr",
          "text": [
            "\rTraining:  73%|███████▎  | 73/100 [01:27<00:30,  1.13s/Epochs]"
          ]
        },
        {
          "output_type": "stream",
          "name": "stdout",
          "text": [
            "Epoch 74: Training Loss 115.00912, Training R2 -0.01933 Validation Loss 114.77545 Validation R2 -0.02373\n"
          ]
        },
        {
          "output_type": "stream",
          "name": "stderr",
          "text": [
            "\rTraining:  74%|███████▍  | 74/100 [01:29<00:31,  1.21s/Epochs]"
          ]
        },
        {
          "output_type": "stream",
          "name": "stdout",
          "text": [
            "Epoch 75: Training Loss 114.99809, Training R2 -0.02018 Validation Loss 114.73048 Validation R2 -0.02327\n"
          ]
        },
        {
          "output_type": "stream",
          "name": "stderr",
          "text": [
            "\rTraining:  75%|███████▌  | 75/100 [01:30<00:32,  1.29s/Epochs]"
          ]
        },
        {
          "output_type": "stream",
          "name": "stdout",
          "text": [
            "Epoch 76: Training Loss 114.95381, Training R2 -0.01948 Validation Loss 114.71533 Validation R2 -0.02305\n"
          ]
        },
        {
          "output_type": "stream",
          "name": "stderr",
          "text": [
            "\rTraining:  76%|███████▌  | 76/100 [01:32<00:32,  1.36s/Epochs]"
          ]
        },
        {
          "output_type": "stream",
          "name": "stdout",
          "text": [
            "Epoch 77: Training Loss 114.94216, Training R2 -0.01946 Validation Loss 114.72752 Validation R2 -0.02314\n"
          ]
        },
        {
          "output_type": "stream",
          "name": "stderr",
          "text": [
            "\rTraining:  77%|███████▋  | 77/100 [01:33<00:30,  1.32s/Epochs]"
          ]
        },
        {
          "output_type": "stream",
          "name": "stdout",
          "text": [
            "Epoch 78: Training Loss 114.9934, Training R2 -0.01948 Validation Loss 114.73009 Validation R2 -0.02318\n"
          ]
        },
        {
          "output_type": "stream",
          "name": "stderr",
          "text": [
            "\rTraining:  78%|███████▊  | 78/100 [01:34<00:27,  1.26s/Epochs]"
          ]
        },
        {
          "output_type": "stream",
          "name": "stdout",
          "text": [
            "Epoch 79: Training Loss 114.98596, Training R2 -0.01991 Validation Loss 114.67795 Validation R2 -0.02256\n"
          ]
        },
        {
          "output_type": "stream",
          "name": "stderr",
          "text": [
            "\rTraining:  79%|███████▉  | 79/100 [01:35<00:25,  1.22s/Epochs]"
          ]
        },
        {
          "output_type": "stream",
          "name": "stdout",
          "text": [
            "Epoch 80: Training Loss 114.94648, Training R2 -0.01955 Validation Loss 114.6378 Validation R2 -0.02225\n"
          ]
        },
        {
          "output_type": "stream",
          "name": "stderr",
          "text": [
            "\rTraining:  80%|████████  | 80/100 [01:36<00:23,  1.19s/Epochs]"
          ]
        },
        {
          "output_type": "stream",
          "name": "stdout",
          "text": [
            "Epoch 81: Training Loss 114.93491, Training R2 -0.01974 Validation Loss 114.59325 Validation R2 -0.02175\n"
          ]
        },
        {
          "output_type": "stream",
          "name": "stderr",
          "text": [
            "\rTraining:  81%|████████  | 81/100 [01:37<00:22,  1.17s/Epochs]"
          ]
        },
        {
          "output_type": "stream",
          "name": "stdout",
          "text": [
            "Epoch 82: Training Loss 114.97069, Training R2 -0.02004 Validation Loss 114.56714 Validation R2 -0.0213\n"
          ]
        },
        {
          "output_type": "stream",
          "name": "stderr",
          "text": [
            "\rTraining:  82%|████████▏ | 82/100 [01:38<00:20,  1.15s/Epochs]"
          ]
        },
        {
          "output_type": "stream",
          "name": "stdout",
          "text": [
            "Epoch 83: Training Loss 114.91239, Training R2 -0.01955 Validation Loss 114.55355 Validation R2 -0.02106\n"
          ]
        },
        {
          "output_type": "stream",
          "name": "stderr",
          "text": [
            "\rTraining:  83%|████████▎ | 83/100 [01:40<00:19,  1.14s/Epochs]"
          ]
        },
        {
          "output_type": "stream",
          "name": "stdout",
          "text": [
            "Epoch 84: Training Loss 114.96896, Training R2 -0.01966 Validation Loss 114.53921 Validation R2 -0.02072\n"
          ]
        },
        {
          "output_type": "stream",
          "name": "stderr",
          "text": [
            "\rTraining:  84%|████████▍ | 84/100 [01:41<00:17,  1.11s/Epochs]"
          ]
        },
        {
          "output_type": "stream",
          "name": "stdout",
          "text": [
            "Epoch 85: Training Loss 114.92308, Training R2 -0.01896 Validation Loss 114.54535 Validation R2 -0.02105\n"
          ]
        },
        {
          "output_type": "stream",
          "name": "stderr",
          "text": [
            "\rTraining:  85%|████████▌ | 85/100 [01:42<00:16,  1.08s/Epochs]"
          ]
        },
        {
          "output_type": "stream",
          "name": "stdout",
          "text": [
            "Epoch 86: Training Loss 114.97093, Training R2 -0.02004 Validation Loss 114.53008 Validation R2 -0.02049\n"
          ]
        },
        {
          "output_type": "stream",
          "name": "stderr",
          "text": [
            "\rTraining:  86%|████████▌ | 86/100 [01:43<00:16,  1.16s/Epochs]"
          ]
        },
        {
          "output_type": "stream",
          "name": "stdout",
          "text": [
            "Epoch 87: Training Loss 114.98105, Training R2 -0.01936 Validation Loss 114.52773 Validation R2 -0.02042\n"
          ]
        },
        {
          "output_type": "stream",
          "name": "stderr",
          "text": [
            "\rTraining:  87%|████████▋ | 87/100 [01:44<00:16,  1.25s/Epochs]"
          ]
        },
        {
          "output_type": "stream",
          "name": "stdout",
          "text": [
            "Epoch 88: Training Loss 114.93988, Training R2 -0.01939 Validation Loss 114.53187 Validation R2 -0.02044\n"
          ]
        },
        {
          "output_type": "stream",
          "name": "stderr",
          "text": [
            "\rTraining:  88%|████████▊ | 88/100 [01:46<00:15,  1.33s/Epochs]"
          ]
        },
        {
          "output_type": "stream",
          "name": "stdout",
          "text": [
            "Epoch 89: Training Loss 115.00603, Training R2 -0.01983 Validation Loss 114.53499 Validation R2 -0.02045\n"
          ]
        },
        {
          "output_type": "stream",
          "name": "stderr",
          "text": [
            "\rTraining:  89%|████████▉ | 89/100 [01:47<00:14,  1.31s/Epochs]"
          ]
        },
        {
          "output_type": "stream",
          "name": "stdout",
          "text": [
            "Epoch 90: Training Loss 114.90001, Training R2 -0.01952 Validation Loss 114.53108 Validation R2 -0.01994\n"
          ]
        },
        {
          "output_type": "stream",
          "name": "stderr",
          "text": [
            "\rTraining:  90%|█████████ | 90/100 [01:48<00:12,  1.25s/Epochs]"
          ]
        },
        {
          "output_type": "stream",
          "name": "stdout",
          "text": [
            "Epoch 91: Training Loss 114.97816, Training R2 -0.01878 Validation Loss 114.54008 Validation R2 -0.02094\n"
          ]
        },
        {
          "output_type": "stream",
          "name": "stderr",
          "text": [
            "\rTraining:  91%|█████████ | 91/100 [01:49<00:10,  1.22s/Epochs]"
          ]
        },
        {
          "output_type": "stream",
          "name": "stdout",
          "text": [
            "Epoch 92: Training Loss 115.00874, Training R2 -0.02119 Validation Loss 114.5538 Validation R2 -0.01836\n"
          ]
        },
        {
          "output_type": "stream",
          "name": "stderr",
          "text": [
            "\rTraining:  92%|█████████▏| 92/100 [01:51<00:09,  1.19s/Epochs]"
          ]
        },
        {
          "output_type": "stream",
          "name": "stdout",
          "text": [
            "Epoch 93: Training Loss 114.99121, Training R2 -0.01693 Validation Loss 114.51437 Validation R2 -0.02024\n"
          ]
        },
        {
          "output_type": "stream",
          "name": "stderr",
          "text": [
            "\rTraining:  93%|█████████▎| 93/100 [01:52<00:08,  1.17s/Epochs]"
          ]
        },
        {
          "output_type": "stream",
          "name": "stdout",
          "text": [
            "Epoch 94: Training Loss 115.01133, Training R2 -0.02159 Validation Loss 114.51907 Validation R2 -0.01978\n"
          ]
        },
        {
          "output_type": "stream",
          "name": "stderr",
          "text": [
            "\rTraining:  94%|█████████▍| 94/100 [01:53<00:06,  1.15s/Epochs]"
          ]
        },
        {
          "output_type": "stream",
          "name": "stdout",
          "text": [
            "Epoch 95: Training Loss 114.97518, Training R2 -0.02065 Validation Loss 114.56509 Validation R2 -0.01866\n"
          ]
        },
        {
          "output_type": "stream",
          "name": "stderr",
          "text": [
            "\rTraining:  95%|█████████▌| 95/100 [01:54<00:05,  1.14s/Epochs]"
          ]
        },
        {
          "output_type": "stream",
          "name": "stdout",
          "text": [
            "Epoch 96: Training Loss 114.99364, Training R2 -0.01812 Validation Loss 114.54431 Validation R2 -0.01942\n"
          ]
        },
        {
          "output_type": "stream",
          "name": "stderr",
          "text": [
            "\rTraining:  96%|█████████▌| 96/100 [01:55<00:04,  1.13s/Epochs]"
          ]
        },
        {
          "output_type": "stream",
          "name": "stdout",
          "text": [
            "Epoch 97: Training Loss 114.94566, Training R2 -0.01943 Validation Loss 114.53598 Validation R2 -0.02029\n"
          ]
        },
        {
          "output_type": "stream",
          "name": "stderr",
          "text": [
            "\rTraining:  97%|█████████▋| 97/100 [01:56<00:03,  1.13s/Epochs]"
          ]
        },
        {
          "output_type": "stream",
          "name": "stdout",
          "text": [
            "Epoch 98: Training Loss 114.95129, Training R2 -0.02106 Validation Loss 114.55994 Validation R2 -0.01926\n"
          ]
        },
        {
          "output_type": "stream",
          "name": "stderr",
          "text": [
            "\rTraining:  98%|█████████▊| 98/100 [01:58<00:02,  1.23s/Epochs]"
          ]
        },
        {
          "output_type": "stream",
          "name": "stdout",
          "text": [
            "Epoch 99: Training Loss 114.94418, Training R2 -0.01908 Validation Loss 114.54354 Validation R2 -0.01862\n"
          ]
        },
        {
          "output_type": "stream",
          "name": "stderr",
          "text": [
            "\rTraining:  99%|█████████▉| 99/100 [01:59<00:01,  1.31s/Epochs]"
          ]
        },
        {
          "output_type": "stream",
          "name": "stdout",
          "text": [
            "Epoch 100: Training Loss 114.99126, Training R2 -0.01861 Validation Loss 114.49947 Validation R2 -0.01901\n"
          ]
        },
        {
          "output_type": "stream",
          "name": "stderr",
          "text": [
            "Training: 100%|██████████| 100/100 [02:01<00:00,  1.21s/Epochs]\n"
          ]
        },
        {
          "output_type": "stream",
          "name": "stdout",
          "text": [
            "Minimum validation loss: 114.49946594238281\n",
            "Minimum test loss: 113.1100845336914\n",
            "Saving Model Predictions for Model Type GraphSage\n"
          ]
        },
        {
          "output_type": "display_data",
          "data": {
            "text/plain": [
              "<Figure size 640x480 with 1 Axes>"
            ],
            "image/png": "[encoded data removed]"
          },
          "metadata": {}
        }
      ]
    },
    {
      "cell_type": "code",
      "source": [],
      "metadata": {
        "id": "LVopQ76V9ni0"
      },
      "execution_count": null,
      "outputs": []
    },
    {
      "cell_type": "code",
      "source": [],
      "metadata": {
        "id": "NgKNmXav-bdP"
      },
      "execution_count": null,
      "outputs": []
    }
  ]
}